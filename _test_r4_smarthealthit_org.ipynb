{
 "cells": [
  {
   "cell_type": "code",
   "execution_count": null,
   "id": "7c3f2e21-26d8-4e56-af3d-0d13ed59fa23",
   "metadata": {},
   "outputs": [
    {
     "data": {
      "text/plain": [
       "[3, 4, 5, 6, 7, 8, 9, 10, 11]"
      ]
     },
     "execution_count": null,
     "metadata": {},
     "output_type": "execute_result"
    }
   ],
   "source": [
    "a=list(range(3,12))\n",
    "a"
   ]
  },
  {
   "cell_type": "code",
   "execution_count": null,
   "id": "7c4f2ea9-b210-4acb-b5c9-c040f707326e",
   "metadata": {},
   "outputs": [
    {
     "data": {
      "text/plain": [
       "(3, 11)"
      ]
     },
     "execution_count": null,
     "metadata": {},
     "output_type": "execute_result"
    }
   ],
   "source": [
    "_min,_max=min(a),max(a)\n",
    "_min,_max"
   ]
  },
  {
   "cell_type": "code",
   "execution_count": null,
   "id": "38d58ee0-75eb-4aa8-bcba-7f0ec46320a5",
   "metadata": {},
   "outputs": [
    {
     "data": {
      "text/plain": [
       "[0.0, 0.125, 0.25, 0.375, 0.5, 0.625, 0.75, 0.875, 1.0]"
      ]
     },
     "execution_count": null,
     "metadata": {},
     "output_type": "execute_result"
    }
   ],
   "source": [
    "[(i-_min)/(_max-_min) for i in a]"
   ]
  },
  {
   "cell_type": "code",
   "execution_count": null,
   "id": "76a47d6d-f692-4e57-b38e-da5a0175e063",
   "metadata": {},
   "outputs": [],
   "source": [
    "from vulcan_medication_bundle.core import *\n",
    "from vulcan_medication_bundle.per_patient import *"
   ]
  },
  {
   "cell_type": "code",
   "execution_count": null,
   "id": "2373606c-3eb9-4826-aa08-ecb26c26381a",
   "metadata": {},
   "outputs": [],
   "source": [
    "api_base = 'https://r4.smarthealthit.org/'"
   ]
  },
  {
   "cell_type": "code",
   "execution_count": null,
   "id": "cd7f3e9a-c25e-4eec-8f3d-6cf589fc30ed",
   "metadata": {},
   "outputs": [
    {
     "name": "stdout",
     "output_type": "stream",
     "text": [
      "GET https://r4.smarthealthit.org//ResearchSubject?_format=json\n"
     ]
    },
    {
     "data": {
      "text/plain": [
       "[]"
      ]
     },
     "execution_count": null,
     "metadata": {},
     "output_type": "execute_result"
    }
   ],
   "source": [
    "bundle = get_as_raw_json(api_base, 'ResearchSubject')\n",
    "references = extract_references(bundle, ['individual'])\n",
    "references"
   ]
  },
  {
   "cell_type": "code",
   "execution_count": null,
   "id": "2d1bdad5-171f-4fdb-aa86-09f6208d2135",
   "metadata": {},
   "outputs": [
    {
     "name": "stdout",
     "output_type": "stream",
     "text": [
      "GET https://r4.smarthealthit.org//MedicationRequest?_format=json\n",
      "GET https://r4.smarthealthit.org?_getpages=b0c8336e-cd4a-4973-89dd-6dd06a7b03e4&_getpagesoffset=50&_count=50&_format=json&_pretty=true&_bundletype=searchset\n",
      "GET https://r4.smarthealthit.org?_getpages=b0c8336e-cd4a-4973-89dd-6dd06a7b03e4&_getpagesoffset=100&_count=50&_format=json&_pretty=true&_bundletype=searchset\n",
      "GET https://r4.smarthealthit.org?_getpages=b0c8336e-cd4a-4973-89dd-6dd06a7b03e4&_getpagesoffset=150&_count=50&_format=json&_pretty=true&_bundletype=searchset\n",
      "GET https://r4.smarthealthit.org?_getpages=b0c8336e-cd4a-4973-89dd-6dd06a7b03e4&_getpagesoffset=200&_count=50&_format=json&_pretty=true&_bundletype=searchset\n",
      "GET https://r4.smarthealthit.org?_getpages=b0c8336e-cd4a-4973-89dd-6dd06a7b03e4&_getpagesoffset=250&_count=50&_format=json&_pretty=true&_bundletype=searchset\n",
      "Stopping early\n"
     ]
    },
    {
     "data": {
      "text/plain": [
       "{'Patient/02f19698-ca4a-4a67-b343-0819ff6fce66',\n",
       " 'Patient/06895d41-5937-4e83-9f3d-0af09db31c69',\n",
       " 'Patient/082fd114-0415-4ce4-8293-0caebb0fe9de',\n",
       " 'Patient/08bb5ad8-79b2-47ef-a0ad-81ef0b4ab2c3',\n",
       " 'Patient/0a616e8d-e5d1-463e-af36-c2a4d4803be5',\n",
       " 'Patient/0b532e97-28c5-49b3-ad64-dc320bdb5abf',\n",
       " 'Patient/0b8d3c83-93f8-4f9a-b711-96b7d2e13264',\n",
       " 'Patient/0c15e136-827d-4d70-a5b1-a63bf159b31c',\n",
       " 'Patient/0e61c3ad-d11e-4080-a6aa-cac89cae4e37',\n",
       " 'Patient/0fc1eab4-7b07-4203-9fa3-34a965a25b2a',\n",
       " 'Patient/11a7f0e3-b1d0-431c-adb6-ad1ad8d61720',\n",
       " 'Patient/11f2b925-43b2-45e4-ac34-7811a9eb9c1b',\n",
       " 'Patient/1299e4b5-bed9-4574-9233-ddfeb48d5c42',\n",
       " 'Patient/138d4e0c-e3d3-460d-bead-7d0b2f86f33c',\n",
       " 'Patient/13a00221-8417-4973-961e-e21b32ece95a',\n",
       " 'Patient/1410c2ee-05cb-4d45-86cc-f4980597f053',\n",
       " 'Patient/148f10e1-2182-4297-ac1f-39bb9eca6f1a',\n",
       " 'Patient/15661112-796c-460c-bf7a-6b297e33f113',\n",
       " 'Patient/15e2659f-d069-4b26-8a61-9bd62694d8e0',\n",
       " 'Patient/195bd73c-1ef3-400d-9269-a0d9042afafe',\n",
       " 'Patient/1fc53917-6bc1-4f87-9008-c91e94f0e188',\n",
       " 'Patient/2094b6fa-01b6-4d0c-bef4-38931181732e',\n",
       " 'Patient/2316fb73-df53-4896-b17d-df48a42ce2f8',\n",
       " 'Patient/25603bc3-a2e8-4208-8375-3d2162a005fe',\n",
       " 'Patient/26b62bec-0651-4e88-b8e3-8323d5f1a7ec',\n",
       " 'Patient/2744ab6f-91dd-4e4f-8208-fe52ee2c27d1',\n",
       " 'Patient/274b7371-cb91-4b85-82a2-eabc4aa77779',\n",
       " 'Patient/28d83205-7289-4483-a25d-877009825909',\n",
       " 'Patient/29105b30-f807-4e58-a253-01a7830aa8f6',\n",
       " 'Patient/2d526118-fb1d-44c0-9b0b-b8f6d4f2b4fb',\n",
       " 'Patient/33fe8be3-339f-4c63-904e-101edba71ab5',\n",
       " 'Patient/340044b6-332e-4cac-a95c-f0efe95fc105',\n",
       " 'Patient/34b6332c-71a9-46ad-9d30-17443d77dbd9',\n",
       " 'Patient/35ee91de-83bd-4fa3-9548-58384c91de93',\n",
       " 'Patient/3819264d-f39e-44cf-9e89-63078b714a0f',\n",
       " 'Patient/38826a3f-8e5c-4846-95c3-7f12a233447d',\n",
       " 'Patient/389bac6b-5b19-43c2-90a6-79afa9ba59e7',\n",
       " 'Patient/39e53c6f-309b-4ed7-b650-79a4ef7b1e99',\n",
       " 'Patient/3a44aee2-523a-4e97-8f47-bd07c4926590',\n",
       " 'Patient/3d6cdb4d-8387-4e3d-97ca-f01c30122329',\n",
       " 'Patient/41dd486d-2eac-4b15-bb4c-e05f3e95428f',\n",
       " 'Patient/429342a7-e550-482e-8213-f2711cc3eca8',\n",
       " 'Patient/43400618-8533-406d-8303-af7cc5714549',\n",
       " 'Patient/43dd4e31-0c9d-42c7-a2e1-53ccf0e09dba',\n",
       " 'Patient/4577f039-dafd-4751-861c-bb99b34cf71d',\n",
       " 'Patient/457ad729-544f-4ed6-9eb4-20a2152a3687',\n",
       " 'Patient/476d3544-6370-479f-9ac9-c43434aae12f',\n",
       " 'Patient/4ab63f42-aa13-45cb-86bf-bdec7ea43fd2',\n",
       " 'Patient/51a34344-0cae-44ac-94ef-8d46bce612dc',\n",
       " 'Patient/54d0aacd-9b70-4a62-91ac-af86c9408ae8',\n",
       " 'Patient/5654564d-5ae1-407c-8bcc-e7f96f773633',\n",
       " 'Patient/58f620b1-910c-41b8-81cf-f8c7afd828b6',\n",
       " 'Patient/5b6f6c39-f3ac-443a-859b-9ace3335e4a8',\n",
       " 'Patient/5c79bba4-62e4-46f5-862e-0a84a364dd33',\n",
       " 'Patient/5d08f7da-5a78-4d35-afec-9d2c2c0245ee',\n",
       " 'Patient/5db1e775-33a3-47fb-8954-d97cd43e8074',\n",
       " 'Patient/616eaeb2-a67a-44e5-a7e6-9bbd85e47c5c',\n",
       " 'Patient/61743a71-05b3-455d-802f-c379ffc65b40',\n",
       " 'Patient/618b2992-eec7-45c9-8544-12c9f586b78c',\n",
       " 'Patient/641f77f3-3580-4a9f-b663-9b2b71ccdc34',\n",
       " 'Patient/672ea8a4-b75b-4553-ac34-2f0f6b4e30cf',\n",
       " 'Patient/6908592e-0062-4df3-acb2-10548e07084a',\n",
       " 'Patient/6a73c7dc-a64f-4a20-940e-f8f191525088',\n",
       " 'Patient/6b223f89-e726-44da-81ad-03d30fc61254',\n",
       " 'Patient/6b9bd741-baa7-4370-8d33-441e7f134ae4',\n",
       " 'Patient/6bb3d38f-ae2e-40cf-a31e-baaea0b8bcc1',\n",
       " 'Patient/6fed515d-df89-45cf-ac5a-a149a42c7b1d',\n",
       " 'Patient/7099b4c5-6f47-4293-9690-f2afb23b9dd6',\n",
       " 'Patient/71304c2e-64b0-4b57-91f6-2c1ff771d72c',\n",
       " 'Patient/720b9118-3153-40c8-b162-cd963506be0e',\n",
       " 'Patient/7217c081-64cf-4e6c-b023-05c2e2dcf50c',\n",
       " 'Patient/72d8a40a-6aa4-4e62-a258-a973cf460658',\n",
       " 'Patient/75a4631d-2cd8-4c77-afb6-740bad394ea1',\n",
       " 'Patient/768be7ac-743f-4c24-aa0f-fed5a3a38b6a',\n",
       " 'Patient/76d2fa2d-66a6-4823-8dab-52cd70822844',\n",
       " 'Patient/76e3464d-4f85-4cbf-af90-0866063056cc',\n",
       " 'Patient/775ae455-7966-416e-8d04-fd0b8fdac28f',\n",
       " 'Patient/77f70af5-b53b-4e55-a122-8cd68784c258',\n",
       " 'Patient/79c96478-7878-4703-9e94-b999f2bc3295',\n",
       " 'Patient/7a18395e-05fb-44ad-9481-82774944b537',\n",
       " 'Patient/7b9146b3-8b1b-4cf9-af36-530d8c4fcf05',\n",
       " 'Patient/7c10b60c-42a6-4504-b446-f5268c573861',\n",
       " 'Patient/7c483976-15af-49ce-97ad-81a13cf5f303',\n",
       " 'Patient/7e50540e-d263-4fd4-a2da-b97279871200',\n",
       " 'Patient/7e684d3d-37d3-4b96-962d-6a592b051c48',\n",
       " 'Patient/8008b382-91cc-468f-95e5-7d6982b7ebb9',\n",
       " 'Patient/802e150c-c3f3-4a2d-954f-9b7a92be59bc',\n",
       " 'Patient/80a75b5a-fd30-4f38-895d-d8098fe7206e',\n",
       " 'Patient/835a3b08-e3b6-49c4-a23f-1fac8dc7a7a7',\n",
       " 'Patient/8364ff74-d904-442b-b984-f9d640531639',\n",
       " 'Patient/881f534f-d041-425d-a542-cbf669f43e18',\n",
       " 'Patient/8c8bea6b-3352-4331-b5e8-544c0fef254a',\n",
       " 'Patient/8de3051f-6298-43e6-9b7f-2aa6443ee760',\n",
       " 'Patient/8f437924-8cad-441b-88d2-ff38c9363bde',\n",
       " 'Patient/8f65af92-c3c9-4316-bb7f-862c248788dd',\n",
       " 'Patient/90f63176-64bb-46e3-a1c4-73a3968648aa',\n",
       " 'Patient/9184e31a-a2b3-4b8d-9032-d5377cabaa08',\n",
       " 'Patient/91c91ff0-b32f-45e0-b921-54c84ff40a1d',\n",
       " 'Patient/91febabe-8992-49e1-8288-e34c393e98b9',\n",
       " 'Patient/9535d7d4-3398-488d-83ea-ff3b7a2eddbf',\n",
       " 'Patient/95efed54-0648-4faf-a179-9a2b3c45e92d',\n",
       " 'Patient/963dabe4-84e7-4751-b432-e34bdbdbde05',\n",
       " 'Patient/98ab6aa3-882b-4206-8a91-e9a8dfa69008',\n",
       " 'Patient/99852f4e-9d55-4b8a-b399-824bd7929f0c',\n",
       " 'Patient/9a82c90c-ba2d-4b36-a523-ee13e38b8e39',\n",
       " 'Patient/9acbf6dd-e2b1-42cd-9a8b-259b519491d6',\n",
       " 'Patient/9af8e1d3-885b-4356-bf48-b60297671f9b',\n",
       " 'Patient/9bf59715-246f-4ce2-85a6-58c1757f8d21',\n",
       " 'Patient/a3d8b846-e2b6-4102-9943-d329a9b06ea8',\n",
       " 'Patient/a4fbfefa-4eee-4963-9f29-247fa46e1410',\n",
       " 'Patient/a539adfd-de8f-4cb5-bd45-a084b89be0e1',\n",
       " 'Patient/a92edacf-c0ab-4fc4-931f-033a8d4bf314',\n",
       " 'Patient/a9fb0d0f-fb3c-4173-ad19-ec9ba84f4d02',\n",
       " 'Patient/ab245cab-fcbc-4d5f-a2e8-b9433fc7d26f',\n",
       " 'Patient/ab4e7a7d-8b0d-41e1-9ce9-3877d7615aed',\n",
       " 'Patient/aba76b64-036c-4477-a48b-2e07a741114e',\n",
       " 'Patient/ae6225ec-c4c0-400f-bbcd-4aba181be869',\n",
       " 'Patient/ae8a896e-bbd9-4e1a-a732-1568df9d7527',\n",
       " 'Patient/b0d28084-fcad-4af2-9a3d-c0090a6e294a',\n",
       " 'Patient/b13bd1f1-78c4-4cbe-b611-3bedd3bb796b',\n",
       " 'Patient/b465d605-3571-49bc-9c06-e3e23f45cb50',\n",
       " 'Patient/b85d7e00-3690-4e2a-87a0-f3d2dfc908b3',\n",
       " 'Patient/bab7fbbe-9b84-4b2b-b541-bb1fe769772a',\n",
       " 'Patient/bb7fb8e1-1a76-4328-92ea-3852f34846e6',\n",
       " 'Patient/bd6f9f37-7295-4cd6-b212-134afcef1253',\n",
       " 'Patient/beaf0c3d-bcd4-4155-8a7b-f493bdc8f9fe',\n",
       " 'Patient/c0d63c39-42aa-4f2c-9669-fa487d5f6f54',\n",
       " 'Patient/c36d05b1-36eb-4faa-809e-832002f431a7',\n",
       " 'Patient/c5ed5d78-5b3f-4a75-bdfb-5f318b068a20',\n",
       " 'Patient/c7792da2-a72f-4c0a-9dd8-05c5809008f1',\n",
       " 'Patient/ca95b2c5-d306-44d4-a7fa-756de736e68e',\n",
       " 'Patient/cccb981f-2a12-44d0-b1dd-5404ece3f535',\n",
       " 'Patient/cd3f83d7-5cf6-4722-b468-e8c2ddeccabc',\n",
       " 'Patient/cf5f5ab6-3540-42ec-8c7c-c45f9f11ad2f',\n",
       " 'Patient/d00b766a-f5fa-4730-a64d-e8574994f460',\n",
       " 'Patient/d0f9bf93-f99f-4544-b095-1d3c5265b5bb',\n",
       " 'Patient/d4456fef-9f85-47c6-81c3-1dc1c2924326',\n",
       " 'Patient/d48ac962-78c6-46cf-ba33-a24771bfa0e4',\n",
       " 'Patient/d4cdc6d2-f3f1-48c0-96d6-b64b68d79eb9',\n",
       " 'Patient/d5457ac9-b89e-4b36-9632-568eec511981',\n",
       " 'Patient/d5525459-8f3e-4e60-8ed2-5140d165db75',\n",
       " 'Patient/d63abf62-0f84-4649-94d2-052d9363ac00',\n",
       " 'Patient/d68b29cd-8c09-4db5-8da9-d7a5d0d64b6e',\n",
       " 'Patient/dba34946-91c6-464b-b8eb-c02f01e23c4f',\n",
       " 'Patient/e0f40fe5-d579-41f7-87f6-6b2f5f6d1e5b',\n",
       " 'Patient/e14502ae-d3d0-4a52-8b5e-7a833f1a3bf4',\n",
       " 'Patient/e4d83502-457f-43e8-8682-10a2a965dc42',\n",
       " 'Patient/e65aa207-9ec7-493e-987b-b2c686f1af10',\n",
       " 'Patient/e7de504a-311d-49be-b2bc-566a328bcc72',\n",
       " 'Patient/e86e9cae-89a3-44bf-9033-32a2d56f5113',\n",
       " 'Patient/eba03315-2043-442b-80a8-a4d8d265ac99',\n",
       " 'Patient/ebb1f0e2-4fa6-4889-a43b-9cda3c737078',\n",
       " 'Patient/ec6a274e-5090-45c9-b153-e40418f6fa3d',\n",
       " 'Patient/ecaea95c-46de-4ac9-a58d-4847d1a3e574',\n",
       " 'Patient/ede897d1-b0d4-4401-9c8b-45ccf637cbbd',\n",
       " 'Patient/ee9f8dd8-72d2-4769-8020-89e504b1504b',\n",
       " 'Patient/efe58fa2-c6df-4a71-8e37-06c5e4f1e2b8',\n",
       " 'Patient/f03992c7-caa3-4534-9776-8e83259bb98e',\n",
       " 'Patient/f17e9000-364e-466f-9a73-427cbdcead3d',\n",
       " 'Patient/f194782e-be98-4311-96a9-ce8a2ea03313',\n",
       " 'Patient/f1c01f54-8408-492f-aa92-e633953e8443',\n",
       " 'Patient/f1f26587-7199-4c0f-880d-d9cd0799ac15',\n",
       " 'Patient/f28c99ef-9e43-430e-8c8f-59ce317a0ea3',\n",
       " 'Patient/f341c771-5aff-4858-9406-9d45e8a56246',\n",
       " 'Patient/f35f05da-a220-4cea-8a80-7d2d27c2ef9f',\n",
       " 'Patient/f46d1649-8a02-4de8-8cff-f76fae267d3a',\n",
       " 'Patient/fc5a70dc-3adf-4e0b-94b6-461f2d8c334f',\n",
       " 'Patient/fd5d9368-b9a5-4baa-8466-3e2909996fe0',\n",
       " 'Patient/fdba4d87-c986-4650-9bf7-1f64c41cf297',\n",
       " 'Patient/ff9840e8-5f06-4672-90c4-6506856b3d20',\n",
       " 'Patient/ffb8ae8f-8c7f-4475-8c42-d38419108e94',\n",
       " 'Patient/ffd502c9-23e1-4f8f-bc8a-87373acad280'}"
      ]
     },
     "execution_count": null,
     "metadata": {},
     "output_type": "execute_result"
    }
   ],
   "source": [
    "page_count,page_limit = 0,5\n",
    "bundle = get_as_raw_json(api_base, 'MedicationRequest')\n",
    "references = extract_references(bundle, ['subject'])\n",
    "while bundle is not None:\n",
    "    page_count+=1\n",
    "    if page_count>page_limit:\n",
    "        print('Stopping early')\n",
    "        break\n",
    "    bundle = get_next_as_raw_json(bundle)\n",
    "    references.extend(extract_references(bundle, ['subject']))\n",
    "set(references)"
   ]
  },
  {
   "cell_type": "code",
   "execution_count": null,
   "id": "d6a7e72d-ae2e-4191-9bba-4973bb668729",
   "metadata": {},
   "outputs": [],
   "source": [
    "page_count,page_limit = 0,5\n",
    "bundle = get_as_raw_json(api_base, 'MedicationAdministration')\n",
    "references = []\n",
    "while bundle is not None:\n",
    "    references.extend(extract_references(bundle, ['subject']))\n",
    "    page_count+=1\n",
    "    if page_count>page_limit:\n",
    "        print('Stopping early')\n",
    "        break\n",
    "    bundle = get_next_as_raw_json(bundle)\n",
    "set(references)"
   ]
  },
  {
   "cell_type": "code",
   "execution_count": null,
   "id": "892b9acb-ba1f-4169-a485-74ffe6994391",
   "metadata": {},
   "outputs": [
    {
     "name": "stdout",
     "output_type": "stream",
     "text": [
      "        <li>\n",
      "          <a onclick=\"useExampleValues('https://r4.smarthealthit.org/', '28d83205-7289-4483-a25d-877009825909');\">28d83205-7289-4483-a25d-877009825909</a>\n",
      "        </li>\n",
      "        <li>\n",
      "          <a onclick=\"useExampleValues('https://r4.smarthealthit.org/', '1299e4b5-bed9-4574-9233-ddfeb48d5c42');\">1299e4b5-bed9-4574-9233-ddfeb48d5c42</a>\n",
      "        </li>\n",
      "        <li>\n",
      "          <a onclick=\"useExampleValues('https://r4.smarthealthit.org/', '11f2b925-43b2-45e4-ac34-7811a9eb9c1b');\">11f2b925-43b2-45e4-ac34-7811a9eb9c1b</a>\n",
      "        </li>\n",
      "        <li>\n",
      "          <a onclick=\"useExampleValues('https://r4.smarthealthit.org/', 'ede897d1-b0d4-4401-9c8b-45ccf637cbbd');\">ede897d1-b0d4-4401-9c8b-45ccf637cbbd</a>\n",
      "        </li>\n",
      "        <li>\n",
      "          <a onclick=\"useExampleValues('https://r4.smarthealthit.org/', 'd4cdc6d2-f3f1-48c0-96d6-b64b68d79eb9');\">d4cdc6d2-f3f1-48c0-96d6-b64b68d79eb9</a>\n",
      "        </li>\n"
     ]
    }
   ],
   "source": [
    "for p in references[10:15]:\n",
    "    p=p.split('/')[1]\n",
    "    print(f\"\"\"        <li>\n",
    "          <a onclick=\"useExampleValues('{api_base}', '{p}');\">{p}</a>\n",
    "        </li>\"\"\")"
   ]
  },
  {
   "cell_type": "code",
   "execution_count": null,
   "id": "b64481fb-6ae2-4238-9cd9-33b31179f790",
   "metadata": {},
   "outputs": [],
   "source": [
    "# bundle"
   ]
  },
  {
   "cell_type": "code",
   "execution_count": null,
   "id": "266e0836-b02e-4c65-aea6-59acffd0e317",
   "metadata": {},
   "outputs": [],
   "source": [
    "create_single_patient_medication_bundle(api_base, 'ffd502c9-23e1-4f8f-bc8a-87373acad280')"
   ]
  }
 ],
 "metadata": {
  "kernelspec": {
   "display_name": "Python 3",
   "language": "python",
   "name": "python3"
  }
 },
 "nbformat": 4,
 "nbformat_minor": 5
}
