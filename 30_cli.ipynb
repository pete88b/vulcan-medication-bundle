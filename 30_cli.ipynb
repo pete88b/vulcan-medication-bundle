{
 "cells": [
  {
   "cell_type": "code",
   "execution_count": null,
   "id": "0f9ff5d3-0394-47c8-a453-0a73da6860ab",
   "metadata": {},
   "outputs": [],
   "source": [
    "#default_exp cli"
   ]
  },
  {
   "cell_type": "markdown",
   "id": "6dce1f09-cbc8-401a-8dab-a86194565444",
   "metadata": {},
   "source": [
    "# CLI\n",
    "\n",
    "> Command line tools."
   ]
  },
  {
   "cell_type": "code",
   "execution_count": null,
   "id": "d83ce52f-6894-428d-b460-98eaa19d66ff",
   "metadata": {},
   "outputs": [],
   "source": [
    "#export\n",
    "from vulcan_medication_bundle.per_patient import *\n",
    "from fastcore.script import *"
   ]
  },
  {
   "cell_type": "markdown",
   "id": "6ee59409-e771-4633-9f8c-7ac6d2704f27",
   "metadata": {},
   "source": [
    "TODO: add parameters to make status filter optional etc"
   ]
  },
  {
   "cell_type": "code",
   "execution_count": null,
   "id": "01c59950-40ee-4ac5-93c4-e536a8acd853",
   "metadata": {},
   "outputs": [],
   "source": [
    "#export\n",
    "@call_parse\n",
    "def single_patient_medication_bundle(\n",
    "        api_base:Param('FHIR server URL',str),\n",
    "        subject:Param('Patient ID',str),\n",
    "        output_path:Param('Path to save bundle in',str)='data'):\n",
    "    \"Save a JSON Bundle containing medications for a Patient\"\n",
    "    bundle = create_single_patient_medication_bundle(api_base, subject)\n",
    "    bundle = handle_entry_search(bundle)\n",
    "    bundle = filter_bundle(bundle, medication_status_filter)\n",
    "    bundle = filter_bundle(bundle, do_not_perform_filter)\n",
    "    save_single_patient_medication_bundle(bundle, output_path)"
   ]
  },
  {
   "cell_type": "code",
   "execution_count": null,
   "id": "1641cb31-2105-4536-8f0e-d630ca0c094e",
   "metadata": {},
   "outputs": [],
   "source": [
    "# single_patient_medication_bundle('https://demo1.aha.accenture.com/fhir/r4', 'o5BSD5q-Boc-320775')"
   ]
  }
 ],
 "metadata": {
  "kernelspec": {
   "display_name": "Python 3",
   "language": "python",
   "name": "python3"
  }
 },
 "nbformat": 4,
 "nbformat_minor": 5
}
