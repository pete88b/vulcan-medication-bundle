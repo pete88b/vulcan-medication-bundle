{
 "cells": [
  {
   "cell_type": "code",
   "execution_count": null,
   "id": "76a47d6d-f692-4e57-b38e-da5a0175e063",
   "metadata": {},
   "outputs": [],
   "source": [
    "from vulcan_medication_bundle.core import *\n",
    "from vulcan_medication_bundle.per_patient import *\n",
    "import requests, json"
   ]
  },
  {
   "cell_type": "markdown",
   "id": "b9b845b5-8dcf-467b-a916-96b5881e9223",
   "metadata": {},
   "source": [
    "```\n",
    "GET https://connectathon.epic.com/Interconnect-Fhir-Unsecure/api/FHIR/R4/Patient?_id=ezWAKCKmxAtiPb-WU0sKZOQ3&_format=json\n",
    "GET https://connectathon.epic.com/Interconnect-Fhir-Unsecure/api/FHIR/R4/MedicationRequest?subject=Patient/ezWAKCKmxAtiPb-WU0sKZOQ3&_format=json\n",
    "GET https://connectathon.epic.com/Interconnect-Fhir-Unsecure/api/FHIR/R4/MedicationDispense?subject=Patient/ezWAKCKmxAtiPb-WU0sKZOQ3&_format=json\n",
    "Failed to get MedicationDispense, ?subject=Patient/ezWAKCKmxAtiPb-WU0sKZOQ3 from https://connectathon.epic.com/Interconnect-Fhir-Unsecure/api/FHIR/R4\n",
    "Expecting value: line 1 column 1 (char 0)\n",
    "GET https://connectathon.epic.com/Interconnect-Fhir-Unsecure/api/FHIR/R4/MedicationAdministration?subject=Patient/ezWAKCKmxAtiPb-WU0sKZOQ3&_format=json\n",
    "GET https://connectathon.epic.com/Interconnect-Fhir-Unsecure/api/FHIR/R4/MedicationStatement?subject=Patient/ezWAKCKmxAtiPb-WU0sKZOQ3&_format=json\n",
    "Failed to get MedicationStatement, ?subject=Patient/ezWAKCKmxAtiPb-WU0sKZOQ3 from https://connectathon.epic.com/Interconnect-Fhir-Unsecure/api/FHIR/R4\n",
    "Expecting value: line 1 column 1 (char 0)\n",
    "GET https://connectathon.epic.com/Interconnect-Fhir-Unsecure/api/FHIR/R4/Medication?_id=euSjK0akmXSHzyQE-xqMxTmAdOcqmuQ4EfYMMGxF.UcIHoz3S1hVD93g0iRahSAR4kcwCmWf.3oz0jCpefE1yPMNQvrD9cmNl4nv7fbNUBM83&_format=json\n",
    "Failed to reference Medication/euSjK0akmXSHzyQE-xqMxTmAdOcqmuQ4EfYMMGxF.UcIHoz3S1hVD93g0iRahSAR4kcwCmWf.3oz0jCpefE1yPMNQvrD9cmNl4nv7fbNUBM83 from https://connectathon.epic.com/Interconnect-Fhir-Unsecure/api/FHIR/R4\n",
    "Expecting value: line 1 column 1 (char 0)\n",
    "GET https://connectathon.epic.com/Interconnect-Fhir-Unsecure/api/FHIR/R4/Medication?_id=eopB4dvgupvUHacao9b.Nn3EXLap.QMZAPEd1jM3EFD9ZmP1PWiwu1nQ4CWahzcoz50T50pDsJY6KWnemrgaeew3&_format=json\n",
    "Failed to reference Medication/eopB4dvgupvUHacao9b.Nn3EXLap.QMZAPEd1jM3EFD9ZmP1PWiwu1nQ4CWahzcoz50T50pDsJY6KWnemrgaeew3 from https://connectathon.epic.com/Interconnect-Fhir-Unsecure/api/FHIR/R4\n",
    "Expecting value: line 1 column 1 (char 0)\n",
    "GET https://connectathon.epic.com/Interconnect-Fhir-Unsecure/api/FHIR/R4/Medication?_id=e6JnKnSF2k6ztkiXD8AgYrdHj8CWaWlmNTUUeZ9vhSCVwBq4H2MBMlndlZIDEa0Sc3iUt-Vqa5R0aeRDAD5ahuQ3&_format=json\n",
    "Failed to reference Medication/e6JnKnSF2k6ztkiXD8AgYrdHj8CWaWlmNTUUeZ9vhSCVwBq4H2MBMlndlZIDEa0Sc3iUt-Vqa5R0aeRDAD5ahuQ3 from https://connectathon.epic.com/Interconnect-Fhir-Unsecure/api/FHIR/R4\n",
    "```"
   ]
  },
  {
   "cell_type": "code",
   "execution_count": null,
   "id": "2373606c-3eb9-4826-aa08-ecb26c26381a",
   "metadata": {},
   "outputs": [],
   "source": [
    "api_base = 'https://connectathon.epic.com/Interconnect-Fhir-Unsecure/api/FHIR/R4'\n",
    "patient_id = 'ezWAKCKmxAtiPb-WU0sKZOQ3'"
   ]
  },
  {
   "cell_type": "code",
   "execution_count": null,
   "id": "9bebbb27-51cb-4816-abb4-e34a7f55844c",
   "metadata": {},
   "outputs": [],
   "source": [
    "with open('data/connectathon_epic_com_CapabilityStatement.json','w') as f:\n",
    "    json.dump(requests.get(f'{api_base}/metadata?_format=json').json(),f,indent=2)"
   ]
  },
  {
   "cell_type": "code",
   "execution_count": null,
   "id": "057a649b-0bf0-48cc-a7f1-d8c975dc2c38",
   "metadata": {},
   "outputs": [
    {
     "data": {
      "text/plain": [
       "<Response [200]>"
      ]
     },
     "execution_count": null,
     "metadata": {},
     "output_type": "execute_result"
    }
   ],
   "source": [
    "url = f'{api_base}/Patient?_id={patient_id}&_format=json'\n",
    "headers={\"Epic-Client-ID\": \"FFFFFFFFFFFFFFFFFFFFFFFFFFFFFF00\"}\n",
    "response = requests.get(url, headers=headers)\n",
    "response # response.json()"
   ]
  },
  {
   "cell_type": "markdown",
   "id": "e517582e-f9f3-4161-88aa-3ccea42e6eca",
   "metadata": {},
   "source": [
    "```\n",
    "\"medicationReference\": {\n",
    "          \"reference\": \"Medication/eopB4dvgupvUHacao9b.Nn3EXLap.QMZAPEd1jM3EFD9ZmP1PWiwu1nQ4CWahzcoz50T50pDsJY6KWnemrgaeew3\",\n",
    "          \"display\": \"ACETAMINOPHEN 325 MG PO TABS\"\n",
    "        },\n",
    "```"
   ]
  },
  {
   "cell_type": "code",
   "execution_count": null,
   "id": "4c984205-c0d1-4330-b35d-57e5a72ecc6f",
   "metadata": {},
   "outputs": [
    {
     "data": {
      "text/plain": [
       "200"
      ]
     },
     "execution_count": null,
     "metadata": {},
     "output_type": "execute_result"
    }
   ],
   "source": [
    "response.status_code"
   ]
  },
  {
   "cell_type": "code",
   "execution_count": null,
   "id": "c08d1620-7135-440f-93f2-cac0bfa64602",
   "metadata": {},
   "outputs": [
    {
     "data": {
      "text/plain": [
       "1"
      ]
     },
     "execution_count": null,
     "metadata": {},
     "output_type": "execute_result"
    }
   ],
   "source": [
    "s='abc'\n",
    "s.index('b')"
   ]
  },
  {
   "cell_type": "code",
   "execution_count": null,
   "id": "fff9af9b-4d9c-4352-98ed-ff2ad24c1d05",
   "metadata": {},
   "outputs": [
    {
     "name": "stdout",
     "output_type": "stream",
     "text": [
      "https://connectathon.epic.com/Interconnect-Fhir-Unsecure/api/FHIR/R4/Medication?_id=eopB4dvgupvUHacao9b.Nn3EXLap.QMZAPEd1jM3EFD9ZmP1PWiwu1nQ4CWahzcoz50T50pDsJY6KWnemrgaeew3&_format=json <Response [404]>\n",
      "<title>404 - File or directory not found.\n",
      "https://connectathon.epic.com/Interconnect-Fhir-Unsecure/api/FHIR/R4/Medication?_id=eopB4dvgupvUHacao9b.Nn3EXLap.QMZAPEd1jM3EFD9ZmP1PWiwu1nQ4CWahzcoz50T50pDsJY6KWnemrgaeew3 <Response [404]>\n",
      "<title>404 - File or directory not found.\n",
      "https://connectathon.epic.com/Interconnect-Fhir-Unsecure/api/FHIR/R4/Medication/eopB4dvgupvUHacao9b.Nn3EXLap.QMZAPEd1jM3EFD9ZmP1PWiwu1nQ4CWahzcoz50T50pDsJY6KWnemrgaeew3?_format=json <Response [200]>\n",
      "https://connectathon.epic.com/Interconnect-Fhir-Unsecure/api/FHIR/R4/Medication/eopB4dvgupvUHacao9b.Nn3EXLap.QMZAPEd1jM3EFD9ZmP1PWiwu1nQ4CWahzcoz50T50pDsJY6KWnemrgaeew3 <Response [200]>\n"
     ]
    }
   ],
   "source": [
    "medication_id = 'eopB4dvgupvUHacao9b.Nn3EXLap.QMZAPEd1jM3EFD9ZmP1PWiwu1nQ4CWahzcoz50T50pDsJY6KWnemrgaeew3'\n",
    "urls = [\n",
    "#     f'{api_base}/Patient?_id=ezWAKCKmxAtiPb-WU0sKZOQ3',\n",
    "#     f'{api_base}/Patient?_id=ezWAKCKmxAtiPb-WU0sKZOQ3&_format=json',\n",
    "#     f'{api_base}/Patient/ezWAKCKmxAtiPb-WU0sKZOQ3?_format=json',\n",
    "    f'{api_base}/Medication?_id={medication_id}&_format=json',\n",
    "    f'{api_base}/Medication?_id={medication_id}',\n",
    "    f'{api_base}/Medication/{medication_id}?_format=json',\n",
    "    f'{api_base}/Medication/{medication_id}']\n",
    "for url in urls:\n",
    "    response = requests.get(url, headers=headers)\n",
    "    print(url, response)\n",
    "    if response.status_code != 200:\n",
    "        text = response.text\n",
    "        title = text[text.index('<title>'):text.index('</title>')]\n",
    "        print(title)"
   ]
  },
  {
   "cell_type": "code",
   "execution_count": null,
   "id": "4d4dfa73-961b-4820-b9c5-4ce0774a1f04",
   "metadata": {},
   "outputs": [
    {
     "name": "stdout",
     "output_type": "stream",
     "text": [
      "GET https://connectathon.epic.com/Interconnect-Fhir-Unsecure/api/FHIR/R4/Medication/eopB4dvgupvUHacao9b.Nn3EXLap.QMZAPEd1jM3EFD9ZmP1PWiwu1nQ4CWahzcoz50T50pDsJY6KWnemrgaeew3?_format=json\n"
     ]
    },
    {
     "data": {
      "text/plain": [
       "{'resourceType': 'Medication',\n",
       " 'id': 'eopB4dvgupvUHacao9b.Nn3EXLap.QMZAPEd1jM3EFD9ZmP1PWiwu1nQ4CWahzcoz50T50pDsJY6KWnemrgaeew3',\n",
       " 'code': {'coding': [{'system': 'urn:oid:2.16.840.1.113883.6.253',\n",
       "    'code': '283'},\n",
       "   {'system': 'urn:oid:2.16.840.1.113883.6.68', 'code': '64200010000310'},\n",
       "   {'system': 'urn:oid:2.16.840.1.113883.6.162', 'code': '03441'},\n",
       "   {'system': 'http://www.nlm.nih.gov/research/umls/rxnorm', 'code': '161'},\n",
       "   {'system': 'http://www.nlm.nih.gov/research/umls/rxnorm',\n",
       "    'code': '313782'}],\n",
       "  'text': 'ACETAMINOPHEN 325 MG PO TABS'},\n",
       " 'form': {'coding': [{'system': 'urn:oid:1.2.840.114350.1.13.1.1.7.4.698288.310',\n",
       "    'code': 'TABS',\n",
       "    'display': 'Tablet'}],\n",
       "  'text': 'Tablet'},\n",
       " 'ingredient': [{'itemCodeableConcept': {'coding': [{'system': 'urn:oid:2.16.840.1.113883.6.253',\n",
       "      'code': '283'},\n",
       "     {'system': 'urn:oid:2.16.840.1.113883.6.68', 'code': '64200010000310'},\n",
       "     {'system': 'urn:oid:2.16.840.1.113883.6.162', 'code': '03441'},\n",
       "     {'system': 'http://www.nlm.nih.gov/research/umls/rxnorm', 'code': '161'},\n",
       "     {'system': 'http://www.nlm.nih.gov/research/umls/rxnorm',\n",
       "      'code': '313782'}],\n",
       "    'text': 'ACETAMINOPHEN 325 MG PO TABS'},\n",
       "   'strength': {'numerator': {'value': 325,\n",
       "     'unit': 'MG',\n",
       "     'system': 'http://unitsofmeasure.org',\n",
       "     'code': 'mg'},\n",
       "    'denominator': {'value': 325,\n",
       "     'unit': 'MG',\n",
       "     'system': 'http://unitsofmeasure.org',\n",
       "     'code': 'mg'}}}]}"
      ]
     },
     "execution_count": null,
     "metadata": {},
     "output_type": "execute_result"
    }
   ],
   "source": [
    "get_as_raw_json(api_base,'Medication',f'/{medication_id}')"
   ]
  },
  {
   "cell_type": "code",
   "execution_count": null,
   "id": "1a5c5b34-d1b1-43bc-ac03-66185fb47789",
   "metadata": {},
   "outputs": [],
   "source": [
    "url = f'{api_base}/Patient?_id={patient_id}&_format=json'\n",
    "response = requests.get(url)\n",
    "response # response.json()"
   ]
  },
  {
   "cell_type": "code",
   "execution_count": null,
   "id": "a6cd57e6-d09c-42a0-8892-0112860b905d",
   "metadata": {},
   "outputs": [],
   "source": [
    "import vulcan_medication_bundle\n",
    "vulcan_medication_bundle.core.request_headers={\"Epic-Client-ID\": \"FFFFFFFFFFFFFFFFFFFFFFFFFFFFFF00\"}"
   ]
  },
  {
   "cell_type": "code",
   "execution_count": null,
   "id": "13804252-714a-44d3-b265-8d4f2b7c501b",
   "metadata": {},
   "outputs": [
    {
     "data": {
      "text/plain": [
       "{'Epic-Client-ID': 'FFFFFFFFFFFFFFFFFFFFFFFFFFFFFF00'}"
      ]
     },
     "execution_count": null,
     "metadata": {},
     "output_type": "execute_result"
    }
   ],
   "source": [
    "vulcan_medication_bundle.core.request_headers"
   ]
  },
  {
   "cell_type": "code",
   "execution_count": null,
   "id": "cd7f3e9a-c25e-4eec-8f3d-6cf589fc30ed",
   "metadata": {},
   "outputs": [
    {
     "name": "stdout",
     "output_type": "stream",
     "text": [
      "GET https://connectathon.epic.com/Interconnect-Fhir-Unsecure/api/FHIR/R4/Patient?_id=ezWAKCKmxAtiPb-WU0sKZOQ3&_format=json\n"
     ]
    },
    {
     "data": {
      "text/plain": [
       "{'resourceType': 'Bundle',\n",
       " 'type': 'searchset',\n",
       " 'total': 1,\n",
       " 'link': [{'relation': 'self',\n",
       "   'url': 'https://connectathon.epic.com/Interconnect-Fhir-Unsecure/api/FHIR/R4/Patient?_id=ezWAKCKmxAtiPb-WU0sKZOQ3&_format=json'}],\n",
       " 'entry': [{'link': [{'relation': 'self',\n",
       "     'url': 'https://connectathon.epic.com/Interconnect-Fhir-Unsecure/api/FHIR/R4/Patient/ezWAKCKmxAtiPb-WU0sKZOQ3'}],\n",
       "   'fullUrl': 'https://connectathon.epic.com/Interconnect-Fhir-Unsecure/api/FHIR/R4/Patient/ezWAKCKmxAtiPb-WU0sKZOQ3',\n",
       "   'resource': {'resourceType': 'Patient',\n",
       "    'id': 'ezWAKCKmxAtiPb-WU0sKZOQ3',\n",
       "    'extension': [{'extension': [{'valueCoding': {'system': 'http://terminology.hl7.org/CodeSystem/v3-NullFlavor',\n",
       "         'code': 'UNK',\n",
       "         'display': 'Unknown'},\n",
       "        'url': 'ombCategory'},\n",
       "       {'valueString': 'Unknown', 'url': 'text'}],\n",
       "      'url': 'http://hl7.org/fhir/us/core/StructureDefinition/us-core-race'},\n",
       "     {'extension': [{'valueCoding': {'system': 'urn:oid:2.16.840.1.113883.6.238',\n",
       "         'code': 'UNK',\n",
       "         'display': 'Unknown'},\n",
       "        'url': 'ombCategory'},\n",
       "       {'valueString': 'Unknown', 'url': 'text'}],\n",
       "      'url': 'http://hl7.org/fhir/us/core/StructureDefinition/us-core-ethnicity'},\n",
       "     {'valueCodeableConcept': {'coding': [{'system': 'urn:oid:1.2.840.114350.1.13.1.1.7.10.698084.130.768080.39128',\n",
       "         'code': 'male'}]},\n",
       "      'url': 'http://open.epic.com/FHIR/StructureDefinition/extension/legal-sex'},\n",
       "     {'valueCodeableConcept': {'coding': [{'system': 'urn:oid:1.2.840.114350.1.13.1.1.7.10.698084.130.768080.35144',\n",
       "         'code': 'male'}]},\n",
       "      'url': 'http://open.epic.com/FHIR/StructureDefinition/extension/sex-for-clinical-use'},\n",
       "     {'valueCode': 'M',\n",
       "      'url': 'http://hl7.org/fhir/us/core/StructureDefinition/us-core-birthsex'}],\n",
       "    'identifier': [{'use': 'usual',\n",
       "      'system': 'urn:oid:2.16.840.1.113883.4.1',\n",
       "      '_value': {'extension': [{'valueString': 'xxx-xx-2323',\n",
       "         'url': 'http://hl7.org/fhir/StructureDefinition/rendered-value'}]}},\n",
       "     {'use': 'usual',\n",
       "      'type': {'text': 'EPI'},\n",
       "      'system': 'urn:oid:1.2.840.114350.1.1',\n",
       "      'value': '108715'},\n",
       "     {'use': 'usual', 'type': {'text': 'EXTERNAL'}, 'value': 'Z11019'},\n",
       "     {'use': 'usual',\n",
       "      'type': {'text': 'FHIR'},\n",
       "      'value': 'TE2PSGPoqMzkF2Se0Z.bfU5aQeVaKE.LQPzJI.Eoc7.QB'},\n",
       "     {'use': 'usual',\n",
       "      'type': {'text': 'FHIR STU3'},\n",
       "      'value': 'ezWAKCKmxAtiPb-WU0sKZOQ3'},\n",
       "     {'use': 'usual', 'type': {'text': 'INTERNAL'}, 'value': '    Z11019'}],\n",
       "    'active': True,\n",
       "    'name': [{'use': 'official',\n",
       "      'text': 'Don Abraham',\n",
       "      'family': 'Abraham',\n",
       "      'given': ['Don']},\n",
       "     {'use': 'usual',\n",
       "      'text': 'Don Abraham',\n",
       "      'family': 'Abraham',\n",
       "      'given': ['Don']}],\n",
       "    'gender': 'male',\n",
       "    'birthDate': '1988-05-17',\n",
       "    'deceasedBoolean': False,\n",
       "    'managingOrganization': {'reference': 'Organization/eZ5tSGBtuIDiegLxBzb5JK3lDcy71bRisehb3AwsOCb83',\n",
       "     'display': 'RSH Service Area'}},\n",
       "   'search': {'mode': 'match'}}]}"
      ]
     },
     "execution_count": null,
     "metadata": {},
     "output_type": "execute_result"
    }
   ],
   "source": [
    "bundle = get_as_raw_json(api_base, 'Patient', f'?_id={patient_id}')\n",
    "bundle"
   ]
  },
  {
   "cell_type": "code",
   "execution_count": null,
   "id": "2d1bdad5-171f-4fdb-aa86-09f6208d2135",
   "metadata": {},
   "outputs": [],
   "source": [
    "page_count,page_limit = 0,5\n",
    "bundle = get_as_raw_json(api_base, 'MedicationRequest')\n",
    "references = extract_references(bundle, ['subject'])\n",
    "while bundle is not None:\n",
    "    page_count+=1\n",
    "    if page_count>page_limit:\n",
    "        print('Stopping early')\n",
    "        break\n",
    "    bundle = get_next_as_raw_json(bundle)\n",
    "    references.extend(extract_references(bundle, ['subject']))\n",
    "set(references)"
   ]
  },
  {
   "cell_type": "code",
   "execution_count": null,
   "id": "d6a7e72d-ae2e-4191-9bba-4973bb668729",
   "metadata": {},
   "outputs": [],
   "source": [
    "page_count,page_limit = 0,5\n",
    "bundle = get_as_raw_json(api_base, 'MedicationAdministration')\n",
    "references = []\n",
    "while bundle is not None:\n",
    "    references.extend(extract_references(bundle, ['subject']))\n",
    "    page_count+=1\n",
    "    if page_count>page_limit:\n",
    "        print('Stopping early')\n",
    "        break\n",
    "    bundle = get_next_as_raw_json(bundle)\n",
    "set(references)"
   ]
  },
  {
   "cell_type": "code",
   "execution_count": null,
   "id": "892b9acb-ba1f-4169-a485-74ffe6994391",
   "metadata": {},
   "outputs": [],
   "source": [
    "for p in references[10:15]:\n",
    "    p=p.split('/')[1]\n",
    "    print(f\"\"\"        <li>\n",
    "          <a onclick=\"useExampleValues('{api_base}', '{p}');\">{p}</a>\n",
    "        </li>\"\"\")"
   ]
  },
  {
   "cell_type": "code",
   "execution_count": null,
   "id": "b64481fb-6ae2-4238-9cd9-33b31179f790",
   "metadata": {},
   "outputs": [],
   "source": [
    "# bundle"
   ]
  },
  {
   "cell_type": "code",
   "execution_count": null,
   "id": "266e0836-b02e-4c65-aea6-59acffd0e317",
   "metadata": {},
   "outputs": [],
   "source": [
    "create_single_patient_medication_bundle(api_base, 'ffd502c9-23e1-4f8f-bc8a-87373acad280')"
   ]
  }
 ],
 "metadata": {
  "kernelspec": {
   "display_name": "Python 3",
   "language": "python",
   "name": "python3"
  }
 },
 "nbformat": 4,
 "nbformat_minor": 5
}
