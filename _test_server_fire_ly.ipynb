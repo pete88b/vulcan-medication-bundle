{
 "cells": [
  {
   "cell_type": "code",
   "execution_count": null,
   "id": "76a47d6d-f692-4e57-b38e-da5a0175e063",
   "metadata": {},
   "outputs": [],
   "source": [
    "from vulcan_medication_bundle.core import *\n",
    "from vulcan_medication_bundle.per_patient import *"
   ]
  },
  {
   "cell_type": "code",
   "execution_count": null,
   "id": "2373606c-3eb9-4826-aa08-ecb26c26381a",
   "metadata": {},
   "outputs": [],
   "source": [
    "api_base = 'https://server.fire.ly/r4'"
   ]
  },
  {
   "cell_type": "code",
   "execution_count": null,
   "id": "cd7f3e9a-c25e-4eec-8f3d-6cf589fc30ed",
   "metadata": {},
   "outputs": [
    {
     "name": "stdout",
     "output_type": "stream",
     "text": [
      "GET https://server.fire.ly/r4/ResearchSubject?_format=json\n"
     ]
    },
    {
     "data": {
      "text/plain": [
       "['https://server.fire.ly/r4/Patient/example']"
      ]
     },
     "execution_count": null,
     "metadata": {},
     "output_type": "execute_result"
    }
   ],
   "source": [
    "bundle = get_bundle_as_raw_json(api_base, 'ResearchSubject')\n",
    "references = extract_references(bundle, ['individual'])\n",
    "references"
   ]
  },
  {
   "cell_type": "code",
   "execution_count": null,
   "id": "2d1bdad5-171f-4fdb-aa86-09f6208d2135",
   "metadata": {},
   "outputs": [
    {
     "name": "stdout",
     "output_type": "stream",
     "text": [
      "GET https://server.fire.ly/r4/MedicationRequest?_format=json\n"
     ]
    },
    {
     "data": {
      "text/plain": [
       "['https://server.fire.ly/r4/Patient/7ed38e8d-8a09-470c-9118-546c3127b955',\n",
       " 'https://server.fire.ly/r4/Patient/0a751dd4-3539-4c5f-8692-adcbb505fc7f',\n",
       " 'https://server.fire.ly/r4/Patient/c623acba-b30e-4476-afe3-b8067d13fbd8',\n",
       " 'https://server.fire.ly/r4/Patient/f3099667-66fc-401b-9746-2902cef166f5',\n",
       " 'https://server.fire.ly/r4/Patient/91782685-23b0-4a51-ac1c-15ceecd74e4b',\n",
       " 'https://server.fire.ly/r4/Patient/ada20e1f-9585-4ba5-999e-fd774bb7b69d',\n",
       " 'https://server.fire.ly/r4/Patient/26181584-857d-426a-9db6-32a2ae56b6c7']"
      ]
     },
     "execution_count": null,
     "metadata": {},
     "output_type": "execute_result"
    }
   ],
   "source": [
    "bundle = get_bundle_as_raw_json(api_base, 'MedicationRequest')\n",
    "references = extract_references(bundle, ['subject'])\n",
    "references"
   ]
  },
  {
   "cell_type": "code",
   "execution_count": null,
   "id": "266e0836-b02e-4c65-aea6-59acffd0e317",
   "metadata": {},
   "outputs": [
    {
     "name": "stdout",
     "output_type": "stream",
     "text": [
      "GET https://server.fire.ly/r4/Patient?_id=7ed38e8d-8a09-470c-9118-546c3127b955&_format=json\n",
      "GET https://server.fire.ly/r4/MedicationRequest?subject=Patient/7ed38e8d-8a09-470c-9118-546c3127b955&_format=json\n",
      "GET https://server.fire.ly/r4/MedicationDispense?subject=Patient/7ed38e8d-8a09-470c-9118-546c3127b955&_format=json\n",
      "GET https://server.fire.ly/r4/MedicationAdministration?subject=Patient/7ed38e8d-8a09-470c-9118-546c3127b955&_format=json\n",
      "GET https://server.fire.ly/r4/MedicationStatement?subject=Patient/7ed38e8d-8a09-470c-9118-546c3127b955&_format=json\n",
      "GET https://server.fire.ly/r4/Condition?_id=57defd56-152b-46dd-9e9a-9eb261205497&_format=json\n",
      "GET https://server.fire.ly/r4/Medication?_id=7847ca4a-244c-446e-b396-c9fc8311e817&_format=json\n",
      "GET https://server.fire.ly/r4/Medication?_id=d28f9c95-8098-4794-b1d0-57e45faf2b39&_format=json\n"
     ]
    },
    {
     "data": {
      "text/plain": [
       "{'resourceType': 'Bundle',\n",
       " 'type': 'collection',\n",
       " 'timestamp': '2021-09-13T08:11:39Z',\n",
       " 'entry': [{'fullUrl': 'https://server.fire.ly/r4/Patient/7ed38e8d-8a09-470c-9118-546c3127b955',\n",
       "   'search': {'mode': 'match'},\n",
       "   'resource': {'resourceType': 'Patient',\n",
       "    'meta': {'tag': [{'system': 'http://www.alpha.alp/use-case',\n",
       "       'code': 'EX20AL'}],\n",
       "     'versionId': 'b9176ccf-4e6a-4b40-b25a-e914a08eb527',\n",
       "     'lastUpdated': '2021-07-29T01:24:12.513+00:00',\n",
       "     'security': [{'system': 'http://terminology.hl7.org/\\r\\n CodeSystem/v3-Confidentiality',\n",
       "       'code': 'R',\n",
       "       'display': 'Restricted'}]},\n",
       "    'extension': [{'url': 'http://hl7.org/fhir/StructureDefinition/patient-birthPlace',\n",
       "      'valueAddress': {'city': 'Portsmouth', 'country': 'UK'}},\n",
       "     {'url': 'http://hl7.org/fhir/StructureDefinition/patient-disability',\n",
       "      'valueCodeableConcept': {'coding': [{'system': 'http://snomed.info/sct',\n",
       "         'code': '95859009',\n",
       "         'display': 'Amputation of foot'}]}}],\n",
       "    'identifier': [{'system': 'http://www.miniaf.alp/citreg',\n",
       "      'value': '102030125'},\n",
       "     {'system': 'http://www.alpha-hospital.alp/patient-id',\n",
       "      'value': '622883244445'}],\n",
       "    'name': [{'family': 'SS', 'given': ['Sapna'], 'prefix': ['Mr.']},\n",
       "     {'use': 'old', 'family': 'Jane'}],\n",
       "    'telecom': [{'system': 'phone', 'value': '020 7422 3666', 'use': 'home'}],\n",
       "    'gender': 'male',\n",
       "    'birthDate': '1987-02-16',\n",
       "    'address': [{'line': ['62, Anystreet'],\n",
       "      'city': 'Alphatown',\n",
       "      'postalCode': '59450'}],\n",
       "    'communication': [{'language': {'coding': [{'system': 'urn:ietf:bcp:47',\n",
       "         'code': 'en',\n",
       "         'display': 'English'}]}},\n",
       "     {'language': {'coding': [{'system': 'urn:ietf:bcp:47',\n",
       "         'code': 'fr',\n",
       "         'display': 'French'}]},\n",
       "      'preferred': True}],\n",
       "    'id': '7ed38e8d-8a09-470c-9118-546c3127b955'}},\n",
       "  {'fullUrl': 'https://server.fire.ly/r4/MedicationRequest/28f8bc54-3f91-44ea-9a98-fdfaaffa38bc',\n",
       "   'search': {'mode': 'match'},\n",
       "   'resource': {'resourceType': 'MedicationRequest',\n",
       "    'meta': {'tag': [{'system': 'http://www.alpha.alp/use-case',\n",
       "       'code': 'EX20AL'}],\n",
       "     'versionId': '4ccc345b-e8a3-4d64-a8c5-44f3c0e4ab6f',\n",
       "     'lastUpdated': '2021-07-28T08:03:31.938+00:00'},\n",
       "    'text': {'status': 'generated',\n",
       "     'div': '<div xmlns=\"http://www.w3.org/1999/xhtml\"> \\n            <p>Prescription: Amoxicillin 250 MG Oral Capsule</p> </div>'},\n",
       "    'status': 'stopped',\n",
       "    'intent': 'order',\n",
       "    'medicationReference': {'reference': 'https://server.fire.ly/r4/Medication/7847ca4a-244c-446e-b396-c9fc8311e817',\n",
       "     'display': 'Amoxicillin 250 MG Oral Capsule'},\n",
       "    'subject': {'reference': 'https://server.fire.ly/r4/Patient/7ed38e8d-8a09-470c-9118-546c3127b955'},\n",
       "    'encounter': {'reference': 'https://server.fire.ly/r4/Encounter/695996e5-6a02-4b58-8177-6c276457da2f',\n",
       "     'display': 'Initial encounter'},\n",
       "    'authoredOn': '2018-06-14',\n",
       "    'requester': {'reference': 'https://server.fire.ly/r4/Practitioner/2ca05067-059b-4400-939b-c5f382bcaf0c',\n",
       "     'display': 'Dr. Harold Hippocrates'},\n",
       "    'reasonReference': [{'reference': 'https://server.fire.ly/r4/Condition/57defd56-152b-46dd-9e9a-9eb261205497',\n",
       "      'display': 'Otitis Media'}],\n",
       "    'dosageInstruction': [{'text': '250 mg 3 times per day for 7 days',\n",
       "      'timing': {'repeat': {'boundsDuration': {'value': 7,\n",
       "         'unit': 'day',\n",
       "         'system': 'http://unitsofmeasure.org',\n",
       "         'code': 'd'},\n",
       "        'frequency': 3,\n",
       "        'period': 1,\n",
       "        'periodUnit': 'd'}},\n",
       "      'doseAndRate': [{'doseQuantity': {'value': 250,\n",
       "         'unit': 'mg',\n",
       "         'system': 'http://unitsofmeasure.org',\n",
       "         'code': 'mg'}}]}],\n",
       "    'id': '28f8bc54-3f91-44ea-9a98-fdfaaffa38bc'}},\n",
       "  {'fullUrl': 'https://server.fire.ly/r4/MedicationRequest/05dd1487-a241-4e63-b178-26eefb03756b',\n",
       "   'search': {'mode': 'match'},\n",
       "   'resource': {'resourceType': 'MedicationRequest',\n",
       "    'meta': {'tag': [{'system': 'http://www.alpha.alp/use-case',\n",
       "       'code': 'EX20AL'}],\n",
       "     'versionId': '10478c7d-ee23-44c5-9e40-6665e53cc07f',\n",
       "     'lastUpdated': '2021-07-28T08:03:31.950+00:00'},\n",
       "    'text': {'status': 'generated',\n",
       "     'div': '<div xmlns=\"http://www.w3.org/1999/xhtml\"> \\n            <p>Prescription: Erythromycin 250 MG Oral Tablet </p> </div>'},\n",
       "    'status': 'completed',\n",
       "    'intent': 'order',\n",
       "    'medicationReference': {'reference': 'https://server.fire.ly/r4/Medication/d28f9c95-8098-4794-b1d0-57e45faf2b39',\n",
       "     'display': 'Erythromycin 250 MG Oral Tablet'},\n",
       "    'subject': {'reference': 'https://server.fire.ly/r4/Patient/7ed38e8d-8a09-470c-9118-546c3127b955'},\n",
       "    'encounter': {'reference': 'https://server.fire.ly/r4/Encounter/3d098a18-51ac-446a-9247-9ac04303f806',\n",
       "     'display': 'Follow up encounter'},\n",
       "    'authoredOn': '2018-06-16',\n",
       "    'requester': {'reference': 'https://server.fire.ly/r4/Practitioner/2ca05067-059b-4400-939b-c5f382bcaf0c',\n",
       "     'display': 'Dr. Harold Hippocrates'},\n",
       "    'reasonReference': [{'reference': 'https://server.fire.ly/r4/Condition/57defd56-152b-46dd-9e9a-9eb261205497',\n",
       "      'display': 'Otitis Media'}],\n",
       "    'dosageInstruction': [{'text': '250 mg 4 times per day for 10 days',\n",
       "      'timing': {'repeat': {'boundsDuration': {'value': 10,\n",
       "         'unit': 'day',\n",
       "         'system': 'http://unitsofmeasure.org',\n",
       "         'code': 'd'},\n",
       "        'frequency': 4,\n",
       "        'period': 1,\n",
       "        'periodUnit': 'd'}},\n",
       "      'doseAndRate': [{'doseQuantity': {'value': 250,\n",
       "         'unit': 'mg',\n",
       "         'system': 'http://unitsofmeasure.org',\n",
       "         'code': 'mg'}}]}],\n",
       "    'priorPrescription': {'reference': 'https://server.fire.ly/r4/MedicationRequest/28f8bc54-3f91-44ea-9a98-fdfaaffa38bc',\n",
       "     'display': 'Amoxicillin prescription'},\n",
       "    'id': '05dd1487-a241-4e63-b178-26eefb03756b'}},\n",
       "  {'fullUrl': 'https://server.fire.ly/r4/Condition/57defd56-152b-46dd-9e9a-9eb261205497',\n",
       "   'search': {'mode': 'match'},\n",
       "   'resource': {'resourceType': 'Condition',\n",
       "    'meta': {'tag': [{'system': 'http://www.alpha.alp/use-case',\n",
       "       'code': 'EX20AL'}],\n",
       "     'versionId': 'da8a50ef-7f7f-40b6-9566-40da79c91ea4',\n",
       "     'lastUpdated': '2021-07-28T08:03:31.886+00:00'},\n",
       "    'text': {'status': 'generated',\n",
       "     'div': '<div xmlns=\"http://www.w3.org/1999/xhtml\"> \\n            <p>Condition: Otitis Media</p> </div>'},\n",
       "    'clinicalStatus': {'coding': [{'system': 'http://terminology.hl7.org/CodeSystem/condition-clinical',\n",
       "       'code': 'resolved'}]},\n",
       "    'verificationStatus': {'coding': [{'system': 'http://terminology.hl7.org/CodeSystem/condition-ver-status',\n",
       "       'code': 'confirmed'}]},\n",
       "    'code': {'coding': [{'system': 'http://snomed.info/sct',\n",
       "       'code': '65363002',\n",
       "       'display': 'Otitis Media'}]},\n",
       "    'subject': {'reference': 'https://server.fire.ly/r4/Patient/7ed38e8d-8a09-470c-9118-546c3127b955'},\n",
       "    'encounter': {'reference': 'https://server.fire.ly/r4/Encounter/695996e5-6a02-4b58-8177-6c276457da2f'},\n",
       "    'recordedDate': '2018-06-28',\n",
       "    'asserter': {'reference': 'https://server.fire.ly/r4/Practitioner/2ca05067-059b-4400-939b-c5f382bcaf0c',\n",
       "     'display': 'Dr. Harold Hippocrates'},\n",
       "    'evidence': [{'detail': [{'reference': 'https://server.fire.ly/r4/Observation/5c6e7b1f-937d-4a13-be07-9f528109f224',\n",
       "        'display': 'Inflamed right eardrum'}]},\n",
       "     {'detail': [{'reference': 'https://server.fire.ly/r4/Observation/c6646f67-1cc6-41c5-9fa7-8840382e4ceb',\n",
       "        'display': 'Body temperature of 38 degrees Celsius'}]}],\n",
       "    'id': '57defd56-152b-46dd-9e9a-9eb261205497'}},\n",
       "  {'fullUrl': 'https://server.fire.ly/r4/Medication/7847ca4a-244c-446e-b396-c9fc8311e817',\n",
       "   'search': {'mode': 'match'},\n",
       "   'resource': {'resourceType': 'Medication',\n",
       "    'meta': {'tag': [{'system': 'http://www.alpha.alp/use-case',\n",
       "       'code': 'EX20AL'}],\n",
       "     'versionId': '158ff712-6191-4200-ad7d-07c39d3f524f',\n",
       "     'lastUpdated': '2021-07-28T08:03:31.905+00:00'},\n",
       "    'text': {'status': 'generated',\n",
       "     'div': '<div xmlns=\"http://www.w3.org/1999/xhtml\"> \\n            <p>Amoxicillin 250 MG Oral Capsule</p> </div>'},\n",
       "    'code': {'coding': [{'system': 'http://www.nlm.nih.gov/research/umls/rxnorm',\n",
       "       'code': '308182',\n",
       "       'display': 'Amoxicillin 250 MG Oral Capsule'}],\n",
       "     'text': 'Amoxicillin 250 MG Oral Capsule'},\n",
       "    'id': '7847ca4a-244c-446e-b396-c9fc8311e817'}},\n",
       "  {'fullUrl': 'https://server.fire.ly/r4/Medication/d28f9c95-8098-4794-b1d0-57e45faf2b39',\n",
       "   'search': {'mode': 'match'},\n",
       "   'resource': {'resourceType': 'Medication',\n",
       "    'meta': {'tag': [{'system': 'http://www.alpha.alp/use-case',\n",
       "       'code': 'EX20AL'}],\n",
       "     'versionId': 'a8f38046-3498-478a-ad23-88d4059b375e',\n",
       "     'lastUpdated': '2021-07-28T08:03:31.920+00:00'},\n",
       "    'text': {'status': 'generated',\n",
       "     'div': '<div xmlns=\"http://www.w3.org/1999/xhtml\"> \\n            <p>Erythromycin 250 MG Oral Tablet</p> </div>'},\n",
       "    'code': {'coding': [{'system': 'http://www.nlm.nih.gov/research/umls/rxnorm',\n",
       "       'code': '598006',\n",
       "       'display': 'Erythromycin 250 MG Oral Tablet'}],\n",
       "     'text': 'Erythromycin 250 MG Oral Tablet'},\n",
       "    'id': 'd28f9c95-8098-4794-b1d0-57e45faf2b39'}}]}"
      ]
     },
     "execution_count": null,
     "metadata": {},
     "output_type": "execute_result"
    }
   ],
   "source": [
    "create_single_patient_medication_bundle(api_base, '7ed38e8d-8a09-470c-9118-546c3127b955')"
   ]
  },
  {
   "cell_type": "code",
   "execution_count": null,
   "id": "0ae68ef9-85cb-4589-889b-7f69f43589dc",
   "metadata": {},
   "outputs": [],
   "source": [
    "# get_bundle_as_raw_json('https://server.fire.ly/r4', 'ResearchSubject') \n",
    "# 'individual': {'reference': 'https://server.fire.ly/r4/Patient/example'}\n",
    "# get_bundle_as_raw_json('https://server.fire.ly/r4', 'Patient', '?subject=example')\n",
    "get_bundle_as_raw_json('https://server.fire.ly/r4', 'MedicationRequest', '?subject=example')\n",
    "# https://server.fire.ly/r4/MedicationRequest?subject=example&_format=json"
   ]
  },
  {
   "cell_type": "code",
   "execution_count": null,
   "id": "645effe0-1499-43b0-b886-7c173671f9bf",
   "metadata": {},
   "outputs": [],
   "source": []
  }
 ],
 "metadata": {
  "kernelspec": {
   "display_name": "Python 3",
   "language": "python",
   "name": "python3"
  }
 },
 "nbformat": 4,
 "nbformat_minor": 5
}
