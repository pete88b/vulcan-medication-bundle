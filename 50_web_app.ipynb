{
 "cells": [
  {
   "cell_type": "code",
   "execution_count": null,
   "id": "numerous-comparison",
   "metadata": {},
   "outputs": [],
   "source": [
    "#default_exp web.app"
   ]
  },
  {
   "cell_type": "markdown",
   "id": "liquid-narrative",
   "metadata": {},
   "source": [
    "# Web App\n",
    "\n",
    "> Factory function that creates and configures the flask app."
   ]
  },
  {
   "cell_type": "code",
   "execution_count": null,
   "id": "consecutive-alfred",
   "metadata": {},
   "outputs": [],
   "source": [
    "#export\n",
    "from vulcan_medication_bundle.per_patient import *\n",
    "from flask import Flask, g, request\n",
    "from werkzeug.exceptions import abort\n",
    "from pathlib import Path\n",
    "import os"
   ]
  },
  {
   "cell_type": "code",
   "execution_count": null,
   "id": "4febeea4-62e0-4dfc-b676-f30d58ba3021",
   "metadata": {},
   "outputs": [],
   "source": [
    "from io import StringIO\n",
    "import requests"
   ]
  },
  {
   "cell_type": "code",
   "execution_count": null,
   "id": "75cfe536-c6a6-4caf-b615-99aff8e2ebbd",
   "metadata": {},
   "outputs": [],
   "source": [
    "#demo\n",
    "import pandas as pd"
   ]
  },
  {
   "cell_type": "code",
   "execution_count": null,
   "id": "036340b7-b335-4505-8fef-535f47f48acc",
   "metadata": {},
   "outputs": [],
   "source": [
    "#export\n",
    "def get_single_patient_medication_bundle(api_base, subject):\n",
    "    bundle = create_single_patient_medication_bundle(api_base, subject)\n",
    "    bundle = handle_entry_search(bundle)\n",
    "    bundle = filter_bundle(bundle, medication_status_filter)\n",
    "    bundle = filter_bundle(bundle, do_not_perform_filter)\n",
    "    return bundle"
   ]
  },
  {
   "cell_type": "code",
   "execution_count": null,
   "id": "diagnostic-sapphire",
   "metadata": {},
   "outputs": [],
   "source": [
    "#export\n",
    "def create_app(test_config=None):\n",
    "    \"Create and configure an instance of the Flask application.\"\n",
    "    app = Flask(__name__, instance_relative_config=True)\n",
    "    app.config.from_mapping(\n",
    "        # a default secret that should be overridden by instance config\n",
    "        SECRET_KEY=\"dev\",\n",
    "        DATA_DIR=app.instance_path # used by filesystem and DB service\n",
    "    )\n",
    "\n",
    "    if test_config is None:\n",
    "        # load the instance config, if it exists, when not testing\n",
    "        app.config.from_pyfile(\"config.py\", silent=True)\n",
    "    else:\n",
    "        # load the test config if passed in\n",
    "        app.config.update(test_config)\n",
    "\n",
    "    # ensure the instance folder exists\n",
    "    os.makedirs(app.config['DATA_DIR'], exist_ok=True)\n",
    "    \n",
    "    @app.route(\"/hello\")\n",
    "    def hello(): return \"Hello, World!\"\n",
    "    \n",
    "    @app.route(\"/single_patient_medication_bundle\")\n",
    "    def _get_single_patient_medication_bundle():\n",
    "        args = [request.args.get(p) for p in ['api_base', 'subject'] if request.args.get(p) is not None]\n",
    "        if len(args) != 2:\n",
    "            abort(400, 'Missing URL parameter: api_base and subject are required')\n",
    "        return get_single_patient_medication_bundle(*args)\n",
    "\n",
    "    return app"
   ]
  },
  {
   "cell_type": "code",
   "execution_count": null,
   "id": "unsigned-wedding",
   "metadata": {},
   "outputs": [],
   "source": [
    "assert not create_app().testing\n",
    "assert create_app({\"TESTING\": True}).testing"
   ]
  },
  {
   "cell_type": "code",
   "execution_count": null,
   "id": "contained-provider",
   "metadata": {},
   "outputs": [],
   "source": [
    "#hide\n",
    "from flask import Flask\n",
    "from contextlib import contextmanager\n",
    "from pathlib import Path\n",
    "import tempfile, shutil, os, vulcan_medication_bundle.web\n",
    "\n",
    "def cd(p):\n",
    "    print('Changing working directory:') # TODO: maybe we want to suppress stdout\n",
    "    get_ipython().run_line_magic('cd', str(p))\n",
    "\n",
    "@contextmanager\n",
    "def test_resources():\n",
    "    temp_path = tempfile.mkdtemp()\n",
    "    try:\n",
    "        cwd = get_ipython().run_line_magic('pwd', '')\n",
    "        cd(Path(vulcan_medication_bundle.web.__file__).parent)\n",
    "        app = create_app({\"TESTING\": True, \"DATA_DIR\": temp_path})\n",
    "        client = app.test_client()\n",
    "        with app.app_context():\n",
    "            yield app, client\n",
    "    finally:\n",
    "        cd(cwd)\n",
    "        shutil.rmtree(temp_path)"
   ]
  },
  {
   "cell_type": "code",
   "execution_count": null,
   "id": "spatial-concentration",
   "metadata": {},
   "outputs": [
    {
     "name": "stdout",
     "output_type": "stream",
     "text": [
      "Changing working directory:\n",
      "C:\\Users\\Butterp\\github\\pete88b\\vulcan_medication_bundle\\vulcan_medication_bundle\\web\n",
      "Changing working directory:\n",
      "C:\\Users\\Butterp\\github\\pete88b\\vulcan_medication_bundle\n"
     ]
    }
   ],
   "source": [
    "with test_resources() as (app, client):\n",
    "    response = client.get(\"/hello\")\n",
    "    assert response.data == b\"Hello, World!\""
   ]
  },
  {
   "cell_type": "code",
   "execution_count": null,
   "id": "weird-addition",
   "metadata": {},
   "outputs": [
    {
     "name": "stdout",
     "output_type": "stream",
     "text": [
      "Changing working directory:\n",
      "C:\\Users\\Butterp\\github\\pete88b\\vulcan_medication_bundle\\vulcan_medication_bundle\\web\n",
      "GET http://hapi.fhir.org/baseR4/Patient?_id=0c4a1143-8d1c-42ed-b509-eac97d77c9b2\n",
      "GET http://hapi.fhir.org/baseR4/MedicationRequest?subject=0c4a1143-8d1c-42ed-b509-eac97d77c9b2\n",
      "GET http://hapi.fhir.org/baseR4/MedicationDispense?subject=0c4a1143-8d1c-42ed-b509-eac97d77c9b2\n",
      "GET http://hapi.fhir.org/baseR4/MedicationAdministration?subject=0c4a1143-8d1c-42ed-b509-eac97d77c9b2\n",
      "GET http://hapi.fhir.org/baseR4/MedicationStatement?subject=0c4a1143-8d1c-42ed-b509-eac97d77c9b2\n",
      "GET http://hapi.fhir.org/baseR4/Condition?_id=1ddef4ad-fb76-46d6-9f1d-8ed58b173ee8\n",
      "GET http://hapi.fhir.org/baseR4/Medication?_id=bac1387e-3655-4e03-982f-7210faa21ea8\n",
      "Changing working directory:\n",
      "C:\\Users\\Butterp\\github\\pete88b\\vulcan_medication_bundle\n"
     ]
    },
    {
     "data": {
      "text/html": [
       "<div>\n",
       "<style scoped>\n",
       "    .dataframe tbody tr th:only-of-type {\n",
       "        vertical-align: middle;\n",
       "    }\n",
       "\n",
       "    .dataframe tbody tr th {\n",
       "        vertical-align: top;\n",
       "    }\n",
       "\n",
       "    .dataframe thead th {\n",
       "        text-align: right;\n",
       "    }\n",
       "</style>\n",
       "<table border=\"1\" class=\"dataframe\">\n",
       "  <thead>\n",
       "    <tr style=\"text-align: right;\">\n",
       "      <th></th>\n",
       "      <th>STUDYID</th>\n",
       "      <th>DOMAIN</th>\n",
       "      <th>USUBJID</th>\n",
       "      <th>CMSEQ</th>\n",
       "      <th>CMGRPID</th>\n",
       "      <th>CMSPID</th>\n",
       "      <th>CMTRT</th>\n",
       "      <th>CMMODIFY</th>\n",
       "      <th>CMDECOD</th>\n",
       "      <th>CMCAT</th>\n",
       "      <th>...</th>\n",
       "      <th>CMENDTC</th>\n",
       "      <th>CMSTDY</th>\n",
       "      <th>CMENDY</th>\n",
       "      <th>CMDUR</th>\n",
       "      <th>CMSTRF</th>\n",
       "      <th>CMENRF</th>\n",
       "      <th>CMSTRTPT</th>\n",
       "      <th>CMSTTPT</th>\n",
       "      <th>CMENRTPT</th>\n",
       "      <th>CMENTPT</th>\n",
       "    </tr>\n",
       "  </thead>\n",
       "  <tbody>\n",
       "    <tr>\n",
       "      <th>0</th>\n",
       "      <td>RWD-STUDY-01</td>\n",
       "      <td>CM</td>\n",
       "      <td>RWD-SUBJECT-01-30</td>\n",
       "      <td>1</td>\n",
       "      <td>1</td>\n",
       "      <td>SPONSOR-1</td>\n",
       "      <td>Acetaminophen 500 MG Oral Tablet</td>\n",
       "      <td>NaN</td>\n",
       "      <td>NaN</td>\n",
       "      <td>CAT1</td>\n",
       "      <td>...</td>\n",
       "      <td>NaN</td>\n",
       "      <td>NaN</td>\n",
       "      <td>NaN</td>\n",
       "      <td>NaN</td>\n",
       "      <td>NaN</td>\n",
       "      <td>NaN</td>\n",
       "      <td>NaN</td>\n",
       "      <td>NaN</td>\n",
       "      <td>NaN</td>\n",
       "      <td>NaN</td>\n",
       "    </tr>\n",
       "    <tr>\n",
       "      <th>1</th>\n",
       "      <td>RWD-STUDY-01</td>\n",
       "      <td>CM</td>\n",
       "      <td>RWD-SUBJECT-01-30</td>\n",
       "      <td>2</td>\n",
       "      <td>1</td>\n",
       "      <td>SPONSOR-2</td>\n",
       "      <td>Acetaminophen 500 MG Oral Tablet</td>\n",
       "      <td>NaN</td>\n",
       "      <td>A:</td>\n",
       "      <td>CAT1</td>\n",
       "      <td>...</td>\n",
       "      <td>2020-01-14</td>\n",
       "      <td>13.0</td>\n",
       "      <td>13.0</td>\n",
       "      <td>NaN</td>\n",
       "      <td>NaN</td>\n",
       "      <td>NaN</td>\n",
       "      <td>NaN</td>\n",
       "      <td>NaN</td>\n",
       "      <td>NaN</td>\n",
       "      <td>NaN</td>\n",
       "    </tr>\n",
       "    <tr>\n",
       "      <th>2</th>\n",
       "      <td>RWD-STUDY-01</td>\n",
       "      <td>CM</td>\n",
       "      <td>RWD-SUBJECT-01-30</td>\n",
       "      <td>3</td>\n",
       "      <td>1</td>\n",
       "      <td>SPONSOR-3</td>\n",
       "      <td>Acetaminophen 500 MG Oral Tablet</td>\n",
       "      <td>NaN</td>\n",
       "      <td>S:</td>\n",
       "      <td>CAT1</td>\n",
       "      <td>...</td>\n",
       "      <td>2020-01-14</td>\n",
       "      <td>13.0</td>\n",
       "      <td>13.0</td>\n",
       "      <td>NaN</td>\n",
       "      <td>NaN</td>\n",
       "      <td>NaN</td>\n",
       "      <td>NaN</td>\n",
       "      <td>NaN</td>\n",
       "      <td>NaN</td>\n",
       "      <td>NaN</td>\n",
       "    </tr>\n",
       "  </tbody>\n",
       "</table>\n",
       "<p>3 rows × 41 columns</p>\n",
       "</div>"
      ],
      "text/plain": [
       "        STUDYID DOMAIN            USUBJID  CMSEQ  CMGRPID     CMSPID  \\\n",
       "0  RWD-STUDY-01     CM  RWD-SUBJECT-01-30      1        1  SPONSOR-1   \n",
       "1  RWD-STUDY-01     CM  RWD-SUBJECT-01-30      2        1  SPONSOR-2   \n",
       "2  RWD-STUDY-01     CM  RWD-SUBJECT-01-30      3        1  SPONSOR-3   \n",
       "\n",
       "                              CMTRT  CMMODIFY CMDECOD CMCAT  ...     CMENDTC  \\\n",
       "0  Acetaminophen 500 MG Oral Tablet       NaN     NaN  CAT1  ...         NaN   \n",
       "1  Acetaminophen 500 MG Oral Tablet       NaN      A:  CAT1  ...  2020-01-14   \n",
       "2  Acetaminophen 500 MG Oral Tablet       NaN      S:  CAT1  ...  2020-01-14   \n",
       "\n",
       "   CMSTDY CMENDY  CMDUR  CMSTRF CMENRF  CMSTRTPT  CMSTTPT  CMENRTPT  CMENTPT  \n",
       "0     NaN    NaN    NaN     NaN    NaN       NaN      NaN       NaN      NaN  \n",
       "1    13.0   13.0    NaN     NaN    NaN       NaN      NaN       NaN      NaN  \n",
       "2    13.0   13.0    NaN     NaN    NaN       NaN      NaN       NaN      NaN  \n",
       "\n",
       "[3 rows x 41 columns]"
      ]
     },
     "execution_count": null,
     "metadata": {},
     "output_type": "execute_result"
    }
   ],
   "source": [
    "#demo\n",
    "with test_resources() as (app, client):\n",
    "    bundle_response = client.get(\"/single_patient_medication_bundle?api_base=http://hapi.fhir.org/baseR4&subject=0c4a1143-8d1c-42ed-b509-eac97d77c9b2\")\n",
    "cdisc_response = requests.post('https://mylinks-prod-sdtmtool.azurewebsites.net/TransformBundle/Process', json=bundle_response.json)\n",
    "pd.read_csv(StringIO(cdisc_response.json()['cmcsv']))"
   ]
  }
 ],
 "metadata": {
  "kernelspec": {
   "display_name": "Python 3",
   "language": "python",
   "name": "python3"
  }
 },
 "nbformat": 4,
 "nbformat_minor": 5
}
