{
 "cells": [
  {
   "cell_type": "code",
   "execution_count": null,
   "metadata": {},
   "outputs": [],
   "source": [
    "#hide\n",
    "from vulcan_medication_bundle.core import *"
   ]
  },
  {
   "cell_type": "markdown",
   "metadata": {},
   "source": [
    "# Vulcan Medication Bundle\n",
    "\n",
    "> API to get single patient medication bundles."
   ]
  },
  {
   "cell_type": "markdown",
   "metadata": {},
   "source": [
    "## Install"
   ]
  },
  {
   "cell_type": "markdown",
   "metadata": {},
   "source": [
    "If you'd like to use the console commands;\n",
    "\n",
    "`pip install vulcan_medication_bundle`\n",
    "\n",
    "Note: No installation is needed to use the web API."
   ]
  },
  {
   "cell_type": "markdown",
   "metadata": {},
   "source": [
    "## How to use"
   ]
  },
  {
   "cell_type": "markdown",
   "metadata": {},
   "source": [
    "### Web API\n",
    "\n",
    "TODO\n",
    "\n",
    "### Console commands\n",
    "\n",
    "TODO"
   ]
  },
  {
   "cell_type": "markdown",
   "metadata": {},
   "source": [
    "# Developers\n",
    "\n",
    "```\n",
    "git config --global core.autocrlf input\n",
    "```\n",
    "\n",
    "```\n",
    "conda create -n vulcan_medication_bundle python==3.7 -y\n",
    "conda activate vulcan_medication_bundle\n",
    "pip install nbdev jupyterlab pandas Flask\n",
    "cd github *** nav to where you want this project to live on your filesystem\n",
    "git clone https://github.com/pete88b/vulcan_medication_bundle.git\n",
    "cd vulcan_medication_bundle\n",
    "nbdev_install_git_hooks\n",
    "jupyter-lab\n",
    "```"
   ]
  },
  {
   "cell_type": "markdown",
   "metadata": {},
   "source": [
    "## Running the app locally\n",
    "\n",
    "```\n",
    "SET FLASK_APP=vulcan_medication_bundle.web.app\n",
    "SET FLASK_ENV=development\n",
    "flask run\n",
    "```\n",
    "\n",
    "The you can GET http://127.0.0.1:5000/single_patient_medication_bundle?api_base=http://hapi.fhir.org/baseR4&subject=0c4a1143-8d1c-42ed-b509-eac97d77c9b2 etc"
   ]
  }
 ],
 "metadata": {
  "kernelspec": {
   "display_name": "Python 3",
   "language": "python",
   "name": "python3"
  }
 },
 "nbformat": 4,
 "nbformat_minor": 4
}
