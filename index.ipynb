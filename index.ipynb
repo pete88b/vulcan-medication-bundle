{
 "cells": [
  {
   "cell_type": "code",
   "execution_count": null,
   "metadata": {},
   "outputs": [],
   "source": [
    "#hide\n",
    "from vulcan_medication_bundle.core import *"
   ]
  },
  {
   "cell_type": "markdown",
   "metadata": {},
   "source": [
    "# Vulcan Medication Bundle\n",
    "\n",
    "> API to get single patient medication bundles."
   ]
  },
  {
   "cell_type": "markdown",
   "metadata": {},
   "source": [
    "## Install"
   ]
  },
  {
   "cell_type": "markdown",
   "metadata": {},
   "source": [
    "Note: No installation is needed to use the web API but ... if you'd like to use the console commands;\n",
    "\n",
    "`pip install vulcan_medication_bundle`"
   ]
  },
  {
   "cell_type": "markdown",
   "metadata": {},
   "source": [
    "## How to use"
   ]
  },
  {
   "cell_type": "markdown",
   "metadata": {},
   "source": [
    "### Web API\n",
    "\n",
    "We have an Azure app service that can be used to test this API.\n",
    "\n",
    "The API is available at: http://vulcan-medication-bundle.azurewebsites.net/single_patient_medication_bundle and requires 2 URL parameters;\n",
    "- `api_base` base URL for an \"open\" FHIR server\n",
    "- `subject` ID of a patient that should exist on the specified FHIR server\n",
    "\n",
    "e.g. http://vulcan-medication-bundle.azurewebsites.net/single_patient_medication_bundle?api_base=http://hapi.fhir.org/baseR4&subject=0c4a1143-8d1c-42ed-b509-eac97d77c9b2 will return a medication bundle for subject `0c4a1143-8d1c-42ed-b509-eac97d77c9b2` pulled from `http://hapi.fhir.org/baseR4`\n",
    "\n",
    "### Console commands\n",
    "\n",
    "For help `single_patient_medication_bundle -h`\n",
    "\n",
    "To save a bundle to the default output folder `single_patient_medication_bundle https://demo1.aha.accenture.com/fhir/r4 o5BSD5q-Boc-320775`\n",
    "\n",
    "```\n",
    "GET https://demo1.aha.accenture.com/fhir/r4/Patient?_id=o5BSD5q-Boc-320775&_format=json\n",
    "GET https://demo1.aha.accenture.com/fhir/r4/MedicationRequest?subject=Patient/o5BSD5q-Boc-320775&_format=json\n",
    "GET https://demo1.aha.accenture.com/fhir/r4/MedicationRequest/?subject=Patient/o5BSD5q-Boc-320775&_format=json&$ipp-page-offset=100\n",
    "...\n",
    "GET https://demo1.aha.accenture.com/fhir/r4/MedicationDispense?subject=Patient/o5BSD5q-Boc-320775&_format=json\n",
    "GET https://demo1.aha.accenture.com/fhir/r4/MedicationAdministration?subject=Patient/o5BSD5q-Boc-320775&_format=json\n",
    "GET https://demo1.aha.accenture.com/fhir/r4/MedicationStatement?subject=Patient/o5BSD5q-Boc-320775&_format=json\n",
    "GET https://demo1.aha.accenture.com/fhir/r4/Condition?_id=o5BSD5q-Boc-320818&_format=json\n",
    "...\n",
    "GET https://demo1.aha.accenture.com/fhir/r4/Condition?_id=o5BSD5q-Boc-320852&_format=json\n",
    "Removing MedicationRequest with status stopped\n",
    "...\n",
    "Removing MedicationRequest with status stopped\n",
    "Bundle saved to data/patient_medication_bundle_o5BSD5q-Boc-320775.json\n",
    "```\n",
    "\n",
    "To save a bundle to a specific folder `vulcan_medication_bundle>single_patient_medication_bundle https://demo1.aha.accenture.com/fhir/r4 o5BSD5q-Boc-320775 --output_path=your_folder`\n",
    "\n",
    "### Demo Web App\n",
    "\n",
    "The [demo web app](http://vulcan-medication-bundle.azurewebsites.net) might be running ... sorry if it's not."
   ]
  },
  {
   "cell_type": "markdown",
   "metadata": {},
   "source": [
    "# Developers\n",
    "\n",
    "```\n",
    "git config --global core.autocrlf input\n",
    "```\n",
    "\n",
    "```\n",
    "conda create -n vulcan_medication_bundle python==3.7 -y\n",
    "conda activate vulcan_medication_bundle\n",
    "pip install nbdev jupyterlab pandas Flask\n",
    "cd github *** nav to where you want this project to live on your filesystem\n",
    "git clone https://github.com/pete88b/vulcan_medication_bundle.git\n",
    "cd vulcan_medication_bundle\n",
    "nbdev_install_git_hooks\n",
    "jupyter-lab\n",
    "```"
   ]
  },
  {
   "cell_type": "markdown",
   "metadata": {},
   "source": [
    "## Running the app locally\n",
    "\n",
    "To run the web API and demo web app (it's just one Flask app)\n",
    "\n",
    "```\n",
    "conda activate vulcan_medication_bundle\n",
    "SET FLASK_APP=vulcan_medication_bundle.web.app\n",
    "SET FLASK_ENV=development\n",
    "flask run\n",
    "```\n",
    "\n",
    "The you can GET http://127.0.0.1:5000/single_patient_medication_bundle?api_base=http://hapi.fhir.org/baseR4&subject=0c4a1143-8d1c-42ed-b509-eac97d77c9b2 etc\n",
    "\n",
    "You'll need to run `nbdev_build_lib` if you make any changes to notebooks tagged with `#default_exp` "
   ]
  },
  {
   "cell_type": "markdown",
   "metadata": {},
   "source": [
    "## Running command line tools locally\n",
    "\n",
    "`pip install -e .` is the only extra step needed"
   ]
  }
 ],
 "metadata": {
  "kernelspec": {
   "display_name": "Python 3",
   "language": "python",
   "name": "python3"
  }
 },
 "nbformat": 4,
 "nbformat_minor": 4
}
