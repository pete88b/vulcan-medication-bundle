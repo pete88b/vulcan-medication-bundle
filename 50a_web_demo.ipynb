{
 "cells": [
  {
   "cell_type": "code",
   "execution_count": null,
   "id": "accessory-electricity",
   "metadata": {},
   "outputs": [],
   "source": [
    "#default_exp web.demo"
   ]
  },
  {
   "cell_type": "markdown",
   "id": "suitable-simon",
   "metadata": {},
   "source": [
    "# Web Demo\n",
    "\n",
    "> Simple demo UI."
   ]
  },
  {
   "cell_type": "code",
   "execution_count": null,
   "id": "passing-conspiracy",
   "metadata": {},
   "outputs": [],
   "source": [
    "#export\n",
    "from vulcan_medication_bundle.per_patient import *\n",
    "\n",
    "from flask import Blueprint\n",
    "from flask import flash\n",
    "from flask import g\n",
    "from flask import redirect\n",
    "from flask import render_template\n",
    "from flask import request\n",
    "from flask import url_for\n",
    "from flask import send_from_directory\n",
    "from werkzeug.exceptions import abort\n",
    "from werkzeug.utils import secure_filename\n",
    "from io import StringIO\n",
    "from pathlib import Path\n",
    "import tempfile,time,json,requests\n",
    "import pandas as pd\n",
    "\n",
    "bp = Blueprint(\"demo\", __name__)"
   ]
  },
  {
   "cell_type": "code",
   "execution_count": null,
   "id": "64cfeb71-cf67-4aeb-9f40-a1696b0d1d11",
   "metadata": {},
   "outputs": [],
   "source": [
    "#export\n",
    "def _get_single_patient_medication_bundle(api_base, subject):\n",
    "    bundle = create_single_patient_medication_bundle(api_base, subject)\n",
    "    bundle = handle_entry_search(bundle)\n",
    "#     bundle = filter_bundle(bundle, medication_status_filter)\n",
    "#     bundle = filter_bundle(bundle, do_not_perform_filter)\n",
    "    return bundle"
   ]
  },
  {
   "cell_type": "code",
   "execution_count": null,
   "id": "vertical-affect",
   "metadata": {},
   "outputs": [],
   "source": [
    "#export\n",
    "@bp.route(\"/\", methods=([\"GET\"]))\n",
    "def index():\n",
    "    \"\"\"Show the index page.\"\"\"\n",
    "    return render_template(\"index.html\", medication_bundle=None)"
   ]
  },
  {
   "cell_type": "code",
   "execution_count": null,
   "id": "3d3ab6b9-5fe1-4e91-8039-60f52e3a7f16",
   "metadata": {},
   "outputs": [],
   "source": [
    "#export\n",
    "@bp.route(\"/get_single_patient_medication_bundle\", methods=([\"GET\", \"POST\"]))\n",
    "def get_single_patient_medication_bundle():\n",
    "    # TODO: we have v similar endpoint in app )o:\n",
    "    medication_bundle = ''\n",
    "    if request.method == \"POST\":\n",
    "        api_base = request.form[\"api_base\"]\n",
    "        subject = request.form[\"subject\"]\n",
    "        headers = request.form[\"headers\"]\n",
    "        print(api_base, subject) # DO NOT log headers - might contain user secrets\n",
    "        error = None\n",
    "\n",
    "        if not api_base:\n",
    "            error = \"api_base is required.\"\n",
    "        if not subject:\n",
    "            error = \"subject is required\"\n",
    "\n",
    "        import vulcan_medication_bundle\n",
    "        if headers:\n",
    "            print('Using custom headers')\n",
    "            vulcan_medication_bundle.core.request_headers = json.loads(headers)\n",
    "        else:\n",
    "            print('no custom headers')\n",
    "            vulcan_medication_bundle.core.request_headers = {}\n",
    "            \n",
    "        if error is not None:\n",
    "            flash(error)\n",
    "        else:\n",
    "            medication_bundle = _get_single_patient_medication_bundle(api_base, subject)\n",
    "            medication_bundle = json.dumps(medication_bundle, indent=2)\n",
    "    \n",
    "    return render_template(\"index.html\", medication_bundle=medication_bundle)"
   ]
  },
  {
   "cell_type": "code",
   "execution_count": null,
   "id": "2d76e609-bcb2-4a74-b87c-277e7fa0b670",
   "metadata": {},
   "outputs": [],
   "source": [
    "#export\n",
    "@bp.route(\"/convert_to_cdisc\", methods=([\"POST\"]))\n",
    "def convert_to_cdisc():\n",
    "    medication_bundle = request.form[\"medication_bundle\"]\n",
    "    cdisc_response = requests.post(\n",
    "            'https://mylinks-prod-sdtmtool.azurewebsites.net/TransformBundle/Process', \n",
    "            json=json.loads(medication_bundle))\n",
    "    print('Got CDISC response', cdisc_response, cdisc_response.json())\n",
    "    cdisc_json = cdisc_response.json()\n",
    "    dfs = [pd.read_csv(StringIO(cdisc_json[k])) for k in cdisc_json]\n",
    "    dfs = [df.dropna(axis=1) for df in dfs]\n",
    "    cdisc_tables = [df.to_html(classes='data', header=\"true\") for df in dfs]\n",
    "    \n",
    "    return render_template(\"index.html\", medication_bundle=medication_bundle, cdisc_tables=cdisc_tables)"
   ]
  },
  {
   "cell_type": "code",
   "execution_count": null,
   "id": "mental-wagon",
   "metadata": {},
   "outputs": [
    {
     "name": "stdout",
     "output_type": "stream",
     "text": [
      "Converted 00_core.ipynb.\n",
      "Converted 10_per_patient.ipynb.\n",
      "Converted 20a_status_filter.ipynb.\n",
      "Converted 30_cli.ipynb.\n",
      "Converted 50_web_app.ipynb.\n",
      "Converted 50a_web_demo.ipynb.\n",
      "Converted index.ipynb.\n"
     ]
    }
   ],
   "source": [
    "#hide\n",
    "from nbdev.export import notebook2script\n",
    "notebook2script()"
   ]
  }
 ],
 "metadata": {
  "kernelspec": {
   "display_name": "Python 3",
   "language": "python",
   "name": "python3"
  }
 },
 "nbformat": 4,
 "nbformat_minor": 5
}
