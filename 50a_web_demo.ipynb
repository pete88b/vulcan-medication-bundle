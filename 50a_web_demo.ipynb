{
 "cells": [
  {
   "cell_type": "code",
   "execution_count": null,
   "id": "accessory-electricity",
   "metadata": {},
   "outputs": [],
   "source": [
    "#default_exp web.demo"
   ]
  },
  {
   "cell_type": "markdown",
   "id": "suitable-simon",
   "metadata": {},
   "source": [
    "# Web Demo\n",
    "\n",
    "> Simple demo UI."
   ]
  },
  {
   "cell_type": "markdown",
   "id": "foreign-secretary",
   "metadata": {},
   "source": [
    "# TODO\n",
    "\n",
    "- add journal download option"
   ]
  },
  {
   "cell_type": "code",
   "execution_count": null,
   "id": "passing-conspiracy",
   "metadata": {},
   "outputs": [],
   "source": [
    "#export\n",
    "from vulcan_medication_bundle.per_patient import *\n",
    "\n",
    "from flask import Blueprint\n",
    "from flask import flash\n",
    "from flask import g\n",
    "from flask import redirect\n",
    "from flask import render_template\n",
    "from flask import request\n",
    "from flask import url_for\n",
    "from flask import send_from_directory\n",
    "from werkzeug.exceptions import abort\n",
    "from werkzeug.utils import secure_filename\n",
    "import tempfile,time,json\n",
    "from pathlib import Path\n",
    "\n",
    "bp = Blueprint(\"demo\", __name__)"
   ]
  },
  {
   "cell_type": "code",
   "execution_count": null,
   "id": "64cfeb71-cf67-4aeb-9f40-a1696b0d1d11",
   "metadata": {},
   "outputs": [],
   "source": [
    "#export\n",
    "def get_single_patient_medication_bundle(api_base, subject):\n",
    "    bundle = create_single_patient_medication_bundle(api_base, subject)\n",
    "    bundle = handle_entry_search(bundle)\n",
    "    bundle = filter_bundle(bundle, medication_status_filter)\n",
    "    bundle = filter_bundle(bundle, do_not_perform_filter)\n",
    "    return bundle"
   ]
  },
  {
   "cell_type": "code",
   "execution_count": null,
   "id": "vertical-affect",
   "metadata": {},
   "outputs": [],
   "source": [
    "#export\n",
    "@bp.route(\"/\", methods=(\"GET\", \"POST\"))\n",
    "def index():\n",
    "    \"\"\"Show all the index page.\"\"\"\n",
    "    medication_bundle = ''\n",
    "    if request.method == \"POST\":\n",
    "        api_base = request.form[\"api_base\"]\n",
    "        subject = request.form[\"subject\"]\n",
    "        print(api_base, subject)\n",
    "        error = None\n",
    "\n",
    "        if not api_base:\n",
    "            error = \"api_base is required.\"\n",
    "        if not subject:\n",
    "            error = \"subject is required\"\n",
    "\n",
    "        if error is not None:\n",
    "            flash(error)\n",
    "        else:\n",
    "            medication_bundle = get_single_patient_medication_bundle(api_base, subject)\n",
    "            medication_bundle = json.dumps(medication_bundle, indent=2)\n",
    "    \n",
    "    return render_template(\"index.html\", medication_bundle=medication_bundle)"
   ]
  },
  {
   "cell_type": "code",
   "execution_count": null,
   "id": "mental-wagon",
   "metadata": {},
   "outputs": [
    {
     "name": "stdout",
     "output_type": "stream",
     "text": [
      "Converted 00_core.ipynb.\n",
      "Converted 10_per_patient.ipynb.\n",
      "Converted 50_web_app.ipynb.\n",
      "Converted 50a_web_demo.ipynb.\n",
      "Converted index.ipynb.\n"
     ]
    }
   ],
   "source": [
    "#hide\n",
    "from nbdev.export import notebook2script\n",
    "notebook2script()"
   ]
  }
 ],
 "metadata": {
  "kernelspec": {
   "display_name": "Python 3",
   "language": "python",
   "name": "python3"
  }
 },
 "nbformat": 4,
 "nbformat_minor": 5
}
