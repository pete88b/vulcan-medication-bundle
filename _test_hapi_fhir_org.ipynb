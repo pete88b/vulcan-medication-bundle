{
 "cells": [
  {
   "cell_type": "code",
   "execution_count": null,
   "id": "76a47d6d-f692-4e57-b38e-da5a0175e063",
   "metadata": {},
   "outputs": [],
   "source": [
    "from vulcan_medication_bundle.core import *\n",
    "from vulcan_medication_bundle.per_patient import *"
   ]
  },
  {
   "cell_type": "code",
   "execution_count": null,
   "id": "2373606c-3eb9-4826-aa08-ecb26c26381a",
   "metadata": {},
   "outputs": [],
   "source": [
    "api_base = 'http://hapi.fhir.org/baseR4'"
   ]
  },
  {
   "cell_type": "code",
   "execution_count": null,
   "id": "cd7f3e9a-c25e-4eec-8f3d-6cf589fc30ed",
   "metadata": {},
   "outputs": [],
   "source": [
    "bundle = get_bundle_as_raw_json(api_base, 'ResearchSubject')\n",
    "references = extract_references(bundle, ['individual'])\n",
    "references"
   ]
  },
  {
   "cell_type": "code",
   "execution_count": null,
   "id": "2d1bdad5-171f-4fdb-aa86-09f6208d2135",
   "metadata": {},
   "outputs": [],
   "source": [
    "bundle = get_bundle_as_raw_json(api_base, 'MedicationRequest')\n",
    "references = extract_references(bundle, ['subject'])\n",
    "references"
   ]
  },
  {
   "cell_type": "code",
   "execution_count": null,
   "id": "266e0836-b02e-4c65-aea6-59acffd0e317",
   "metadata": {},
   "outputs": [],
   "source": [
    "create_single_patient_medication_bundle(api_base, '')"
   ]
  },
  {
   "cell_type": "code",
   "execution_count": null,
   "id": "0ae68ef9-85cb-4589-889b-7f69f43589dc",
   "metadata": {},
   "outputs": [],
   "source": [
    "# get_bundle_as_raw_json('https://server.fire.ly/r4', 'ResearchSubject') \n",
    "# 'individual': {'reference': 'https://server.fire.ly/r4/Patient/example'}\n",
    "# get_bundle_as_raw_json('https://server.fire.ly/r4', 'Patient', '?subject=example')\n",
    "get_bundle_as_raw_json('https://server.fire.ly/r4', 'MedicationRequest', '?subject=example')\n",
    "# https://server.fire.ly/r4/MedicationRequest?subject=example&_format=json"
   ]
  },
  {
   "cell_type": "code",
   "execution_count": null,
   "id": "645effe0-1499-43b0-b886-7c173671f9bf",
   "metadata": {},
   "outputs": [],
   "source": []
  }
 ],
 "metadata": {
  "kernelspec": {
   "display_name": "Python 3",
   "language": "python",
   "name": "python3"
  }
 },
 "nbformat": 4,
 "nbformat_minor": 5
}
