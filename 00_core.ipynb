{
 "cells": [
  {
   "cell_type": "code",
   "execution_count": null,
   "metadata": {},
   "outputs": [],
   "source": [
    "#default_exp core"
   ]
  },
  {
   "cell_type": "markdown",
   "metadata": {},
   "source": [
    "# Core\n",
    "\n",
    "> Handle FHIR server communication and low-level resource functions."
   ]
  },
  {
   "cell_type": "code",
   "execution_count": null,
   "metadata": {},
   "outputs": [],
   "source": [
    "#export\n",
    "import requests\n",
    "from datetime import datetime, timezone"
   ]
  },
  {
   "cell_type": "code",
   "execution_count": null,
   "metadata": {},
   "outputs": [],
   "source": [
    "import json"
   ]
  },
  {
   "cell_type": "code",
   "execution_count": null,
   "metadata": {},
   "outputs": [],
   "source": [
    "#export\n",
    "def get_bundle_as_raw_json(api_base, resource_type=None, url_suffix=None):\n",
    "    \"GET a bundle of resources of a specific type in JSON format\"\n",
    "    url=f'{api_base}/{resource_type}'\n",
    "    if url_suffix is not None: \n",
    "        url+=url_suffix\n",
    "    url+='&' if url_suffix is not None and '?' in url_suffix else '?'\n",
    "    url+='_format=json'\n",
    "    print('GET',url)\n",
    "    return requests.get(url).json()"
   ]
  },
  {
   "cell_type": "markdown",
   "metadata": {},
   "source": [
    "- `api_base` a \"real\" API base like `http://hapi.fhir.org/baseR4` \n",
    "- `resource_type` the type of resource to get. e.g. `Medication`\n",
    "- `url_suffix` the preferred way to add search criteria. e.g. `?subject=d28f9c95-8098-4794-b1d0-57e45faf2b39`\n",
    "\n",
    "To search for some medications;\n",
    "```\n",
    "get_bundle_as_raw_json('https://server.fire.ly/r4', 'Medication')\n",
    "```\n",
    "\n",
    "To get a single medication;\n",
    "```\n",
    "get_bundle_as_raw_json('https://server.fire.ly/r4', Medication', '?_id=d28f9c95-8098-4794-b1d0-57e45faf2b39')\n",
    "```"
   ]
  },
  {
   "cell_type": "code",
   "execution_count": null,
   "metadata": {},
   "outputs": [],
   "source": [
    "#export\n",
    "def get_next_bundle_as_raw_json(json_response):\n",
    "    \"GET the next set of results\"\n",
    "    for link in json_response['link']:\n",
    "        if link['relation'] == 'next':\n",
    "            url = link['url']\n",
    "            print('GET',url)\n",
    "            return requests.get(url).json()"
   ]
  },
  {
   "cell_type": "code",
   "execution_count": null,
   "metadata": {},
   "outputs": [],
   "source": [
    "#export\n",
    "def timestamp_now():\n",
    "    return datetime.utcnow().strftime('%Y-%m-%dT%H:%M:%SZ')"
   ]
  },
  {
   "cell_type": "code",
   "execution_count": null,
   "metadata": {},
   "outputs": [],
   "source": [
    "#export\n",
    "def new_bundle(bundle_type='collection'):\n",
    "    return dict(resourceType='Bundle', \n",
    "                type=bundle_type, \n",
    "                timestamp=timestamp_now(),\n",
    "                entry=[])"
   ]
  },
  {
   "cell_type": "code",
   "execution_count": null,
   "metadata": {},
   "outputs": [
    {
     "data": {
      "text/plain": [
       "'{\"resourceType\": \"Bundle\", \"type\": \"collection\", \"timestamp\": \"2021-09-14T08:52:48Z\", \"entry\": []}'"
      ]
     },
     "execution_count": null,
     "metadata": {},
     "output_type": "execute_result"
    }
   ],
   "source": [
    "# this will fail if the bundle we create cannot be converted to JSON\n",
    "json.dumps(new_bundle())"
   ]
  },
  {
   "cell_type": "code",
   "execution_count": null,
   "metadata": {},
   "outputs": [],
   "source": [
    "# Set the base URL of the FHIR server that we will use in tests\n",
    "# api_base, resource_type = 'http://hapi.fhir.org/baseR4', 'ResearchStudy'\n",
    "api_base = 'https://r4.smarthealthit.org'\n",
    "patient_id = '11f2b925-43b2-45e4-ac34-7811a9eb9c1b'\n",
    "resource_type = 'MedicationRequest'"
   ]
  },
  {
   "cell_type": "markdown",
   "metadata": {},
   "source": [
    "The following cell shows how `get_bundle_as_raw_json` and `get_next_bundle_as_raw_json` can be used to read paged search results."
   ]
  },
  {
   "cell_type": "code",
   "execution_count": null,
   "metadata": {},
   "outputs": [
    {
     "name": "stdout",
     "output_type": "stream",
     "text": [
      "GET https://r4.smarthealthit.org/MedicationRequest?_format=json\n",
      "{\n",
      "  \"resourceType\": \"Bundle\",\n",
      "  \"id\": \"bd829da7-f2c8-4974-a756-3a03dbf4f872\",\n",
      "  \"meta\": {\n",
      "    \"lastUpdated\": \"2021-09-14T04:52:49.045-04:00\"\n",
      "  },\n",
      "  \"type\": \"searchset\",\n",
      "  \"link\": [\n",
      "    {\n",
      "      \"relation\": \"self\",\n",
      "      \"url\": \"https://r4.smarthealthit.org/MedicationRequest?_format=json\"\n",
      "    },\n",
      "    {\n",
      "      \"relation\": \"next\",\n",
      "      \"url\": \"https://r4.smarthealthit.org?_getpages=bd829da7-f2c8-4974-a756-3a03dbf4f872&_getpagesoffset=50&_count=50&_format=json&_pretty=true&_bundletype=searchset\"\n",
      "    } ...\n"
     ]
    }
   ],
   "source": [
    "bundle = get_bundle_as_raw_json(api_base, resource_type)\n",
    "print(json.dumps(bundle, indent=2)[:500], '...')"
   ]
  },
  {
   "cell_type": "code",
   "execution_count": null,
   "metadata": {},
   "outputs": [
    {
     "name": "stdout",
     "output_type": "stream",
     "text": [
      "GET https://r4.smarthealthit.org/MedicationRequest?_format=json\n",
      "MedicationRequest:id f2947356-7ec6-4d36-bca6-0a38ccb0ffe5 \n",
      "MedicationRequest:id 61ceaec7-6272-4975-81c3-ce2f216e6a38 \n",
      "MedicationRequest:id 5180e54d-0187-494a-9ca9-9dbfcab90ab6 \n",
      "GET https://r4.smarthealthit.org?_getpages=bd829da7-f2c8-4974-a756-3a03dbf4f872&_getpagesoffset=50&_count=50&_format=json&_pretty=true&_bundletype=searchset\n",
      "MedicationRequest:id 6d91439c-0412-42a4-89e9-d50b7461add4 \n",
      "MedicationRequest:id b94ee11a-57df-4510-b747-08cce91dfc8f \n",
      "MedicationRequest:id 023a4cce-acc8-4747-99f8-cf078a83c39b \n",
      "GET https://r4.smarthealthit.org?_getpages=bd829da7-f2c8-4974-a756-3a03dbf4f872&_getpagesoffset=100&_count=50&_format=json&_pretty=true&_bundletype=searchset\n",
      "MedicationRequest:id ad518423-ff72-449d-8543-24b67f24dd11 \n",
      "MedicationRequest:id c5f477df-9958-4aeb-9e50-99652dac841d \n",
      "MedicationRequest:id aed487ad-6960-46f0-b8c5-be115a2d73c4 \n"
     ]
    }
   ],
   "source": [
    "json_response = get_bundle_as_raw_json(api_base, resource_type)\n",
    "page_count = 1\n",
    "while json_response is not None:    \n",
    "    for i, entry in enumerate(json_response['entry']):\n",
    "        if i > 2: break # show just 3 resources per \"page\"\n",
    "        resource = entry.get('resource', {})\n",
    "        print(f'{resource_type}:id', resource.get('id', 'missing'), resource.get('title', '')[:60])\n",
    "    if page_count > 2: break # pull 3 pages at most to make testing fast\n",
    "    json_response = get_next_bundle_as_raw_json(json_response)\n",
    "    page_count += 1"
   ]
  },
  {
   "cell_type": "code",
   "execution_count": null,
   "metadata": {},
   "outputs": [],
   "source": [
    "#export\n",
    "def extract_references_from_resource(resource, field_name):\n",
    "    \"Return a list of references extracted from a single resource and field\"\n",
    "    result = []\n",
    "    if field_name in resource:\n",
    "        references = resource[field_name]\n",
    "        if not isinstance(references, list): references = [references]\n",
    "        for reference in references:\n",
    "            _reference = reference.get('reference')\n",
    "            if _reference is None: continue\n",
    "            if _reference.startswith('#'): continue\n",
    "            # TODO: check that we have a relative reference or handle other kinds too\n",
    "            result.append(_reference)\n",
    "    return result"
   ]
  },
  {
   "cell_type": "markdown",
   "metadata": {},
   "source": [
    "TODO: &uarr; we don't need to fetch contained references but we might want to make them bundle entries like the references that we do have to GET - check with Jay if this is already taken care of in FHIR to CDISC"
   ]
  },
  {
   "cell_type": "code",
   "execution_count": null,
   "metadata": {},
   "outputs": [],
   "source": [
    "with open('test/patient_medication_bundle_0c4a1143-8d1c-42ed-b509-eac97d77c9b2.json') as f:\n",
    "    test_bundle = json.load(f)\n",
    "test_entry = test_bundle['entry'][3]\n",
    "test_resource = test_entry['resource'] # resource with medicationReference"
   ]
  },
  {
   "cell_type": "code",
   "execution_count": null,
   "metadata": {},
   "outputs": [],
   "source": [
    "assert (['Medication/bac1387e-3655-4e03-982f-7210faa21ea8'] \n",
    "        == extract_references_from_resource(test_resource, 'medicationReference'))"
   ]
  },
  {
   "cell_type": "code",
   "execution_count": null,
   "metadata": {},
   "outputs": [],
   "source": [
    "#export\n",
    "def extract_references(bundle, field_names):\n",
    "    \"Return a list of relative references e.g. `['Condition/1ddef4ad-fb76-46d6-9f1d-8ed58b173ee8']`\"\n",
    "    if 'entry' not in bundle: return []\n",
    "    result = []\n",
    "    for entry in bundle['entry']:\n",
    "        resource = entry.get('resource', {})\n",
    "        for f in field_names:\n",
    "            result.extend(extract_references_from_resource(resource, f))\n",
    "    return list(set(result)) # de-duplicate but still return a list"
   ]
  },
  {
   "cell_type": "code",
   "execution_count": null,
   "metadata": {},
   "outputs": [],
   "source": [
    "assert (['Condition/1ddef4ad-fb76-46d6-9f1d-8ed58b173ee8', 'Medication/bac1387e-3655-4e03-982f-7210faa21ea8']\n",
    "        == sorted(extract_references(test_bundle, ['medicationReference', 'reasonReference'])))"
   ]
  },
  {
   "cell_type": "code",
   "execution_count": null,
   "metadata": {},
   "outputs": [],
   "source": [
    "# show that references are de-duplicated\n",
    "test_bundle = new_bundle()\n",
    "test_bundle['entry'].extend([test_entry, test_entry]) # create a bundle with duplicate medication references\n",
    "assert (['Medication/bac1387e-3655-4e03-982f-7210faa21ea8']\n",
    "        == extract_references(test_bundle, ['medicationReference', 'reasonReference']))"
   ]
  },
  {
   "cell_type": "markdown",
   "metadata": {},
   "source": [
    "TODO: We need some config around how many and what type of issues clients can accept \n",
    "- some might want to fail if any piece of info cannot be found - i.e. references can't be followed\n",
    "- some might want to get whatever is available and deal with the inconsistencies"
   ]
  },
  {
   "cell_type": "code",
   "execution_count": null,
   "metadata": {},
   "outputs": [],
   "source": [
    "#export\n",
    "def get_by_reference(api_base, reference):\n",
    "    \"Return a resource read from a FHIR server by reference, as a list containg a single bundle entry\"\n",
    "    if reference.startswith(api_base):\n",
    "        reference = reference[len(api_base):].strip('/')\n",
    "    if reference.startswith('http'):\n",
    "        print(f'WARNING: Found reference {reference} that does not start with {api_base}')\n",
    "        return []\n",
    "    resource_type, id = reference.split('/')\n",
    "    single_resource_bundle = get_bundle_as_raw_json(api_base, resource_type, f'?_id={id}')\n",
    "    total = single_resource_bundle['total']\n",
    "    if total != 1:\n",
    "        print(f'WARNING: Expected a single resource for {reference} but found {total}')\n",
    "        return []\n",
    "#         raise Exception(f'Expected a single resource for {reference} but found {total}')\n",
    "#         # TODO: we might want to print a warning and return an empyt list if this is too strict\n",
    "    return single_resource_bundle['entry']"
   ]
  },
  {
   "cell_type": "markdown",
   "metadata": {},
   "source": [
    "If a resource has a reference like\n",
    "```\n",
    "'medicationReference': {'reference': 'Medication/bac1387e-3655-4e03-982f-7210faa21ea8'},\n",
    "```\n",
    "we can HTTP GET the referenced resource (a `Medication` in this case) with http://hapi.fhir.org/baseR4/Medication?_id=bac1387e-3655-4e03-982f-7210faa21ea8\n",
    "\n",
    "No problem if the reference includes the API base. This &darr; works the same as &uarr;\n",
    "```\n",
    "'medicationReference': {'reference': 'http://hapi.fhir.org/baseR4/Medication/bac1387e-3655-4e03-982f-7210faa21ea8'},\n",
    "```"
   ]
  },
  {
   "cell_type": "code",
   "execution_count": null,
   "metadata": {},
   "outputs": [],
   "source": [
    "if api_base == 'http://hapi.fhir.org/baseR4':\n",
    "    test_id = 'bac1387e-3655-4e03-982f-7210faa21ea8'\n",
    "    assert get_by_reference(api_base, f'Medication/{test_id}')[0]['resource']['id'] == test_id"
   ]
  }
 ],
 "metadata": {
  "kernelspec": {
   "display_name": "Python 3",
   "language": "python",
   "name": "python3"
  }
 },
 "nbformat": 4,
 "nbformat_minor": 4
}
