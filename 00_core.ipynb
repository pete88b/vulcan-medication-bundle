{
 "cells": [
  {
   "cell_type": "code",
   "execution_count": null,
   "metadata": {},
   "outputs": [],
   "source": [
    "#default_exp core"
   ]
  },
  {
   "cell_type": "markdown",
   "metadata": {},
   "source": [
    "# Core\n",
    "\n",
    "> Handle FHIR server communication and low-level resource functions."
   ]
  },
  {
   "cell_type": "code",
   "execution_count": null,
   "metadata": {},
   "outputs": [],
   "source": [
    "#export\n",
    "import requests\n",
    "from datetime import datetime, timezone\n",
    "from uuid import uuid4"
   ]
  },
  {
   "cell_type": "code",
   "execution_count": null,
   "metadata": {},
   "outputs": [],
   "source": [
    "import json"
   ]
  },
  {
   "cell_type": "code",
   "execution_count": null,
   "metadata": {},
   "outputs": [],
   "source": [
    "#export\n",
    "# TODO: fix this hack\n",
    "request_headers = {}"
   ]
  },
  {
   "cell_type": "code",
   "execution_count": null,
   "metadata": {},
   "outputs": [],
   "source": [
    "#export\n",
    "def get_as_raw_json(api_base, resource_type, id_or_params=None):\n",
    "    \"GET FHIR resources of `resource_type` in JSON format\"\n",
    "    url = f'{api_base}/{resource_type}'\n",
    "    params = dict(_format = 'json')\n",
    "    if isinstance(id_or_params, dict): params = {**params, **id_or_params}\n",
    "    elif isinstance(id_or_params, str):\n",
    "        if id_or_params[0] in ['/','?']: raise Exception(f'invalid id_or_params {id_or_params}') # TODO: clean\n",
    "        url += f'/{id_or_params}'\n",
    "    response = requests.get(url, params, headers=request_headers)\n",
    "    print('GET', response.url)\n",
    "    return response.json()"
   ]
  },
  {
   "cell_type": "markdown",
   "metadata": {},
   "source": [
    "- `api_base` a \"real\" API base like `http://hapi.fhir.org/baseR4` \n",
    "- `resource_type` the type of resource to get. e.g. `Medication`\n",
    "- `url_suffix` the preferred way to add search criteria. e.g. `?subject=d28f9c95-8098-4794-b1d0-57e45faf2b39`\n",
    "\n",
    "To search for some medications;\n",
    "```\n",
    "get_as_raw_json('https://server.fire.ly/r4', 'Medication')\n",
    "```\n",
    "\n",
    "To get a single medication;\n",
    "```\n",
    "get_as_raw_json('https://server.fire.ly/r4', Medication', '?_id=d28f9c95-8098-4794-b1d0-57e45faf2b39')\n",
    "```"
   ]
  },
  {
   "cell_type": "code",
   "execution_count": null,
   "metadata": {},
   "outputs": [],
   "source": [
    "#export\n",
    "def get_next_as_raw_json(json_response):\n",
    "    \"GET the next set of results\"\n",
    "    for link in json_response['link']:\n",
    "        if link['relation'] == 'next':\n",
    "            url = link['url']\n",
    "            print('GET',url)\n",
    "            return requests.get(url, headers=request_headers).json()"
   ]
  },
  {
   "cell_type": "code",
   "execution_count": null,
   "metadata": {},
   "outputs": [],
   "source": [
    "#export\n",
    "def timestamp_now():\n",
    "    return datetime.utcnow().strftime('%Y-%m-%dT%H:%M:%SZ')"
   ]
  },
  {
   "cell_type": "code",
   "execution_count": null,
   "metadata": {},
   "outputs": [],
   "source": [
    "#export\n",
    "def new_bundle(bundle_type='collection'):\n",
    "    return dict(resourceType='Bundle', \n",
    "                id=str(uuid4()),\n",
    "                type=bundle_type, \n",
    "                timestamp=timestamp_now(),\n",
    "                entry=[])"
   ]
  },
  {
   "cell_type": "code",
   "execution_count": null,
   "metadata": {},
   "outputs": [
    {
     "data": {
      "text/plain": [
       "'{\"resourceType\": \"Bundle\", \"id\": \"efd73f5b-1a76-44d1-a948-4a9add134921\", \"type\": \"collection\", \"timestamp\": \"2021-09-16T12:34:37Z\", \"entry\": []}'"
      ]
     },
     "execution_count": null,
     "metadata": {},
     "output_type": "execute_result"
    }
   ],
   "source": [
    "# this will fail if the bundle we create cannot be converted to JSON\n",
    "json.dumps(new_bundle())"
   ]
  },
  {
   "cell_type": "code",
   "execution_count": null,
   "metadata": {},
   "outputs": [],
   "source": [
    "#export\n",
    "def new_list(title, status='current', mode='snapshot'):\n",
    "    return dict(resourceType='List', \n",
    "                id=str(uuid4()),\n",
    "                title=title,\n",
    "                status=status, \n",
    "                mode=mode,\n",
    "                date=timestamp_now(),\n",
    "                entry=[])"
   ]
  },
  {
   "cell_type": "code",
   "execution_count": null,
   "metadata": {},
   "outputs": [
    {
     "data": {
      "text/plain": [
       "'{\"resourceType\": \"List\", \"id\": \"2b1c363a-47d6-40dc-99ff-7a6721a50a2a\", \"title\": \"test list\", \"status\": \"current\", \"mode\": \"snapshot\", \"date\": \"2021-09-16T12:34:37Z\", \"entry\": []}'"
      ]
     },
     "execution_count": null,
     "metadata": {},
     "output_type": "execute_result"
    }
   ],
   "source": [
    "json.dumps(new_list(title='test list'))"
   ]
  },
  {
   "cell_type": "code",
   "execution_count": null,
   "metadata": {},
   "outputs": [],
   "source": [
    "# Set the base URL of the FHIR server that we will use in tests\n",
    "api_base, resource_type = 'http://hapi.fhir.org/baseR4', 'ResearchStudy'\n",
    "# api_base, resource_type = 'https://r4.smarthealthit.org', 'MedicationRequest'"
   ]
  },
  {
   "cell_type": "markdown",
   "metadata": {},
   "source": [
    "The following cell shows how `get_as_raw_json` and `get_next_as_raw_json` can be used to read paged search results."
   ]
  },
  {
   "cell_type": "code",
   "execution_count": null,
   "metadata": {},
   "outputs": [
    {
     "name": "stdout",
     "output_type": "stream",
     "text": [
      "GET http://hapi.fhir.org/baseR4/ResearchStudy?_format=json\n",
      "{\n",
      "  \"resourceType\": \"Bundle\",\n",
      "  \"id\": \"8b604b8c-a8f4-4243-9c39-09175c6cb28d\",\n",
      "  \"meta\": {\n",
      "    \"lastUpdated\": \"2021-09-16T12:34:38.178+00:00\"\n",
      "  },\n",
      "  \"type\": \"searchset\",\n",
      "  \"total\": 57,\n",
      "  \"link\": [\n",
      "    {\n",
      "      \"relation\": \"self\",\n",
      "      \"url\": \"http://hapi.fhir.org/baseR4/ResearchStudy?_format=json\"\n",
      "    },\n",
      "    {\n",
      "      \"relation\": \"next\",\n",
      "      \"url\": \"http://hapi.fhir.org/baseR4?_getpages=8b604b8c-a8f4-4243-9c39-09175c6cb28d&_getpagesoffset=20&_count=20&_format=json&_pretty=true&_bundletype=searchs ...\n"
     ]
    }
   ],
   "source": [
    "bundle = get_as_raw_json(api_base, resource_type)\n",
    "print(json.dumps(bundle, indent=2)[:500], '...')"
   ]
  },
  {
   "cell_type": "code",
   "execution_count": null,
   "metadata": {},
   "outputs": [
    {
     "name": "stdout",
     "output_type": "stream",
     "text": [
      "GET http://hapi.fhir.org/baseR4/ResearchStudy?_format=json\n",
      "ResearchStudy:id 2492775 Double blind, placebo-controlled trial of a new class of art\n",
      "ResearchStudy:id 1164317 Adjuvant Aspirin Treatment in PIK3CA Mutated Colon Cancer Pa\n",
      "ResearchStudy:id 1164321 A Phase III, Multicenter, Randomized, Open-Label Study Compa\n",
      "GET http://hapi.fhir.org/baseR4?_getpages=8b604b8c-a8f4-4243-9c39-09175c6cb28d&_getpagesoffset=20&_count=20&_format=json&_pretty=true&_bundletype=searchset\n",
      "ResearchStudy:id 2111275 Safety and Efficacy of the Xanomeline Transdermal Therapeuti\n",
      "ResearchStudy:id 2111271 Safety and Efficacy of the Xanomeline Transdermal Therapeuti\n",
      "ResearchStudy:id 2085795 Patientenbefragung Augenklinik\n",
      "GET http://hapi.fhir.org/baseR4?_getpages=8b604b8c-a8f4-4243-9c39-09175c6cb28d&_getpagesoffset=40&_count=20&_format=json&_pretty=true&_bundletype=searchset\n",
      "ResearchStudy:id 248374 \n",
      "ResearchStudy:id 247777 \n",
      "ResearchStudy:id 247565 \n"
     ]
    }
   ],
   "source": [
    "json_response = get_as_raw_json(api_base, resource_type)\n",
    "page_count = 1\n",
    "while json_response is not None:    \n",
    "    for i, entry in enumerate(json_response['entry']):\n",
    "        if i > 2: break # show just 3 resources per \"page\"\n",
    "        resource = entry.get('resource', {})\n",
    "        print(f'{resource_type}:id', resource.get('id', 'missing'), resource.get('title', '')[:60])\n",
    "    if page_count > 2: break # pull 3 pages at most to make testing fast\n",
    "    json_response = get_next_as_raw_json(json_response)\n",
    "    page_count += 1"
   ]
  },
  {
   "cell_type": "code",
   "execution_count": null,
   "metadata": {},
   "outputs": [],
   "source": [
    "#export\n",
    "def extract_references_from_resource(resource, field_name):\n",
    "    \"Return a list of references extracted from a single resource and field\"\n",
    "    result = []\n",
    "    if field_name in resource:\n",
    "        references = resource[field_name]\n",
    "        if not isinstance(references, list): references = [references]\n",
    "        for reference in references:\n",
    "            _reference = reference.get('reference')\n",
    "            if _reference is None: continue\n",
    "            if _reference.startswith('#'): continue\n",
    "            # TODO: check that we have a relative reference or handle other kinds too\n",
    "            result.append(_reference)\n",
    "    return result"
   ]
  },
  {
   "cell_type": "markdown",
   "metadata": {},
   "source": [
    "TODO: &uarr; we don't need to fetch contained references but we might want to make them bundle entries like the references that we do have to GET - check with Jay if this is already taken care of in FHIR to CDISC"
   ]
  },
  {
   "cell_type": "code",
   "execution_count": null,
   "metadata": {},
   "outputs": [],
   "source": [
    "with open('test/patient_medication_bundle_0c4a1143-8d1c-42ed-b509-eac97d77c9b2.json') as f:\n",
    "    test_bundle = json.load(f)\n",
    "test_entry = test_bundle['entry'][3]\n",
    "test_resource = test_entry['resource'] # resource with medicationReference"
   ]
  },
  {
   "cell_type": "code",
   "execution_count": null,
   "metadata": {},
   "outputs": [],
   "source": [
    "assert (['Medication/bac1387e-3655-4e03-982f-7210faa21ea8'] \n",
    "        == extract_references_from_resource(test_resource, 'medicationReference'))"
   ]
  },
  {
   "cell_type": "code",
   "execution_count": null,
   "metadata": {},
   "outputs": [],
   "source": [
    "#export\n",
    "def extract_references(bundle, field_names):\n",
    "    \"Return a list of relative references e.g. `['Condition/1ddef4ad-fb76-46d6-9f1d-8ed58b173ee8']`\"\n",
    "    if 'entry' not in bundle: return []\n",
    "    result = []\n",
    "    for entry in bundle['entry']:\n",
    "        resource = entry.get('resource', {})\n",
    "        for f in field_names:\n",
    "            result.extend(extract_references_from_resource(resource, f))\n",
    "    return list(set(result)) # de-duplicate but still return a list"
   ]
  },
  {
   "cell_type": "code",
   "execution_count": null,
   "metadata": {},
   "outputs": [],
   "source": [
    "assert (['Condition/1ddef4ad-fb76-46d6-9f1d-8ed58b173ee8', 'Medication/bac1387e-3655-4e03-982f-7210faa21ea8']\n",
    "        == sorted(extract_references(test_bundle, ['medicationReference', 'reasonReference'])))"
   ]
  },
  {
   "cell_type": "code",
   "execution_count": null,
   "metadata": {},
   "outputs": [],
   "source": [
    "# show that references are de-duplicated\n",
    "test_bundle = new_bundle()\n",
    "test_bundle['entry'].extend([test_entry, test_entry]) # create a bundle with duplicate medication references\n",
    "assert (['Medication/bac1387e-3655-4e03-982f-7210faa21ea8']\n",
    "        == extract_references(test_bundle, ['medicationReference', 'reasonReference']))"
   ]
  },
  {
   "cell_type": "markdown",
   "metadata": {},
   "source": [
    "TODO: We need some config around how many and what type of issues clients can accept \n",
    "- some might want to fail if any piece of info cannot be found - i.e. references can't be followed\n",
    "- some might want to get whatever is available and deal with the inconsistencies"
   ]
  },
  {
   "cell_type": "code",
   "execution_count": null,
   "metadata": {},
   "outputs": [],
   "source": [
    "#export\n",
    "def get_by_reference(api_base, reference):\n",
    "    \"Return a resource read from a FHIR server by reference, as a list containg a single bundle entry\"\n",
    "    if reference.startswith(api_base):\n",
    "        reference = reference[len(api_base):].strip('/')\n",
    "    if reference.startswith('http'):\n",
    "        print(f'WARNING: Found reference {reference} that does not start with {api_base}')\n",
    "        return []\n",
    "    resource_type, id = reference.split('/')\n",
    "    single_resource = get_as_raw_json(api_base, resource_type, id)\n",
    "    return [dict(fullUrl = f'{api_base}/{resource_type}/{id}', resource = single_resource)]"
   ]
  },
  {
   "cell_type": "markdown",
   "metadata": {},
   "source": [
    "If a resource has a reference like\n",
    "```\n",
    "'medicationReference': {'reference': 'Medication/bac1387e-3655-4e03-982f-7210faa21ea8'},\n",
    "```\n",
    "we can HTTP GET the referenced resource (a `Medication` in this case) with http://hapi.fhir.org/baseR4/Medication/bac1387e-3655-4e03-982f-7210faa21ea8 - then wrap it up as a FHIR `Entry`\n",
    "\n",
    "No problem if the reference includes the API base. This &darr; works the same as &uarr;\n",
    "```\n",
    "'medicationReference': {'reference': 'http://hapi.fhir.org/baseR4/Medication/bac1387e-3655-4e03-982f-7210faa21ea8'},\n",
    "```"
   ]
  },
  {
   "cell_type": "code",
   "execution_count": null,
   "metadata": {},
   "outputs": [
    {
     "name": "stdout",
     "output_type": "stream",
     "text": [
      "GET http://hapi.fhir.org/baseR4/Medication/bac1387e-3655-4e03-982f-7210faa21ea8?_format=json\n"
     ]
    }
   ],
   "source": [
    "if api_base == 'http://hapi.fhir.org/baseR4':\n",
    "    test_id = 'bac1387e-3655-4e03-982f-7210faa21ea8'\n",
    "    assert get_by_reference(api_base, f'Medication/{test_id}')[0]['resource']['id'] == test_id"
   ]
  },
  {
   "cell_type": "markdown",
   "metadata": {},
   "source": [
    "## Bundle filtering\n",
    "\n",
    "We need to be able to remove (filter out) entries from the bundle"
   ]
  },
  {
   "cell_type": "code",
   "execution_count": null,
   "metadata": {},
   "outputs": [],
   "source": [
    "#export\n",
    "def filter_bundle(bundle, filter_fn):\n",
    "    \"Apply a filter function to a bundle in-place\"\n",
    "    bundle['entry'] = [e for e in bundle['entry'] if filter_fn(e)]\n",
    "    return bundle"
   ]
  },
  {
   "cell_type": "code",
   "execution_count": null,
   "metadata": {},
   "outputs": [
    {
     "name": "stdout",
     "output_type": "stream",
     "text": [
      "Converted 00_core.ipynb.\n",
      "Converted 10_per_patient.ipynb.\n",
      "Converted 20a_status_filter.ipynb.\n",
      "Converted 30_cli.ipynb.\n",
      "Converted 50_web_app.ipynb.\n",
      "Converted 50a_web_demo.ipynb.\n",
      "Converted index.ipynb.\n"
     ]
    }
   ],
   "source": [
    "#hide\n",
    "from nbdev.export import notebook2script\n",
    "notebook2script()"
   ]
  }
 ],
 "metadata": {
  "kernelspec": {
   "display_name": "Python 3",
   "language": "python",
   "name": "python3"
  }
 },
 "nbformat": 4,
 "nbformat_minor": 4
}
