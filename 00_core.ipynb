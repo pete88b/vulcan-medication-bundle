{
 "cells": [
  {
   "cell_type": "code",
   "execution_count": null,
   "metadata": {},
   "outputs": [],
   "source": [
    "#default_exp core"
   ]
  },
  {
   "cell_type": "markdown",
   "metadata": {},
   "source": [
    "# Core\n",
    "\n",
    "> Handle FHIR server communication and low-level resource functions."
   ]
  },
  {
   "cell_type": "code",
   "execution_count": null,
   "metadata": {},
   "outputs": [],
   "source": [
    "#export\n",
    "import requests\n",
    "from datetime import datetime, timezone"
   ]
  },
  {
   "cell_type": "code",
   "execution_count": null,
   "metadata": {},
   "outputs": [],
   "source": [
    "import json"
   ]
  },
  {
   "cell_type": "code",
   "execution_count": null,
   "metadata": {},
   "outputs": [],
   "source": [
    "#export\n",
    "def get_bundle_as_raw_json(api_base, resource_type, url_suffix=None):\n",
    "    \"GET a bundle of resources of a specific type\"\n",
    "    url=f'{api_base}/{resource_type}'\n",
    "    if url_suffix is not None:\n",
    "        url+=url_suffix\n",
    "    print('GET',url)\n",
    "    return requests.get(url).json()"
   ]
  },
  {
   "cell_type": "code",
   "execution_count": null,
   "metadata": {},
   "outputs": [],
   "source": [
    "#export\n",
    "def get_next_bundle_as_raw_json(json_response):\n",
    "    \"GET the next set of results\"\n",
    "    if len(json_response['link']) < 2: return None\n",
    "    url = json_response['link'][1]['url']\n",
    "    print('GET',url)\n",
    "    return requests.get(url).json()"
   ]
  },
  {
   "cell_type": "code",
   "execution_count": null,
   "metadata": {},
   "outputs": [],
   "source": [
    "#export\n",
    "def timestamp_now():\n",
    "    return datetime.utcnow().strftime('%Y-%m-%dT%H:%M:%SZ')"
   ]
  },
  {
   "cell_type": "code",
   "execution_count": null,
   "metadata": {},
   "outputs": [],
   "source": [
    "#export\n",
    "def new_bundle(bundle_type='collection'):\n",
    "    return dict(resourceType='Bundle', \n",
    "                type=bundle_type, \n",
    "                timestamp=timestamp_now(),\n",
    "                entry=[])"
   ]
  },
  {
   "cell_type": "code",
   "execution_count": null,
   "metadata": {},
   "outputs": [
    {
     "data": {
      "text/plain": [
       "'{\"resourceType\": \"Bundle\", \"type\": \"collection\", \"timestamp\": \"2021-09-10T09:41:59Z\", \"entry\": []}'"
      ]
     },
     "execution_count": null,
     "metadata": {},
     "output_type": "execute_result"
    }
   ],
   "source": [
    "# this will fail if the bundle we create cannot be converted to JSON\n",
    "json.dumps(new_bundle())"
   ]
  },
  {
   "cell_type": "code",
   "execution_count": null,
   "metadata": {},
   "outputs": [],
   "source": [
    "# Set the base URL of the FHIR server that we will use in tests\n",
    "api_base = 'http://hapi.fhir.org/baseR4'"
   ]
  },
  {
   "cell_type": "markdown",
   "metadata": {},
   "source": [
    "The following cell shows how `get_bundle_as_raw_json` and `get_next_bundle_as_raw_json` can be used to read paged search results."
   ]
  },
  {
   "cell_type": "code",
   "execution_count": null,
   "metadata": {},
   "outputs": [
    {
     "name": "stdout",
     "output_type": "stream",
     "text": [
      "GET http://hapi.fhir.org/baseR4/ResearchStudy\n",
      "ResearchStudy:id 2492775 Double blind, placebo-controlled trial of a new class of art\n",
      "ResearchStudy:id 1164317 Adjuvant Aspirin Treatment in PIK3CA Mutated Colon Cancer Pa\n",
      "ResearchStudy:id 1164321 A Phase III, Multicenter, Randomized, Open-Label Study Compa\n",
      "ResearchStudy:id 2140627 \n",
      "ResearchStudy:id 2126241 Projectathon 2021 Machbarkeitsanfrage\n",
      "ResearchStudy:id 2126240 Projectathon 2021 Machbarkeitsanfrage\n",
      "ResearchStudy:id 2114074 Safety and Efficacy of the Xanomeline Transdermal Therapeuti\n",
      "ResearchStudy:id 2114070 Safety and Efficacy of the Xanomeline Transdermal Therapeuti\n",
      "ResearchStudy:id 2111327 Safety and Efficacy of the Xanomeline Transdermal Therapeuti\n",
      "ResearchStudy:id 2111323 Safety and Efficacy of the Xanomeline Transdermal Therapeuti\n",
      "ResearchStudy:id 2111319 Safety and Efficacy of the Xanomeline Transdermal Therapeuti\n",
      "ResearchStudy:id 2111315 Safety and Efficacy of the Xanomeline Transdermal Therapeuti\n",
      "ResearchStudy:id 2111311 Safety and Efficacy of the Xanomeline Transdermal Therapeuti\n",
      "ResearchStudy:id 2111307 Safety and Efficacy of the Xanomeline Transdermal Therapeuti\n",
      "ResearchStudy:id 2111303 Safety and Efficacy of the Xanomeline Transdermal Therapeuti\n",
      "ResearchStudy:id 2111299 Safety and Efficacy of the Xanomeline Transdermal Therapeuti\n",
      "ResearchStudy:id 2111295 Safety and Efficacy of the Xanomeline Transdermal Therapeuti\n",
      "ResearchStudy:id 2111291 Safety and Efficacy of the Xanomeline Transdermal Therapeuti\n",
      "ResearchStudy:id 2111287 Safety and Efficacy of the Xanomeline Transdermal Therapeuti\n",
      "ResearchStudy:id 2111283 Safety and Efficacy of the Xanomeline Transdermal Therapeuti\n",
      "GET http://hapi.fhir.org/baseR4?_getpages=ee8d34fd-948c-4ca6-93d2-532ee1cb1214&_getpagesoffset=20&_count=20&_pretty=true&_bundletype=searchset\n",
      "ResearchStudy:id 2111275 Safety and Efficacy of the Xanomeline Transdermal Therapeuti\n",
      "ResearchStudy:id 2111271 Safety and Efficacy of the Xanomeline Transdermal Therapeuti\n",
      "ResearchStudy:id 2085795 Patientenbefragung Augenklinik\n",
      "ResearchStudy:id 2085789 Austrittsbereitschaft Medizin\n",
      "ResearchStudy:id 2085775 Austrittsbereitschaft Chirurgie\n",
      "ResearchStudy:id 1737628 Safety and Efficacy of the Xanomeline Transdermal Therapeuti\n",
      "ResearchStudy:id 1171831 Simple Covid-19 observational study\n",
      "ResearchStudy:id 1164323 A Phase IIb Study of RAMucirumab in Combination With TAS102 \n",
      "ResearchStudy:id 1164315 MONARCH 2: A Randomized, Double-Blind, Placebo-Controlled, P\n",
      "ResearchStudy:id 1164319 Durvalumab (MEDI4736) in Frail and Elder Patients With Metas\n",
      "ResearchStudy:id 1093619 Testkohorte Diabetes\n",
      "ResearchStudy:id 697836 \n",
      "ResearchStudy:id 697838 \n",
      "ResearchStudy:id 642249 Klinische Studie über einen Zeitraum von mindestens 6 Monate\n",
      "ResearchStudy:id sirb-dl-ex-study-mmr Longitudinal study of MMR vaccination in patients born from \n",
      "ResearchStudy:id 592095 Eine prospektive, multizentrische, randomisierte, offene, ak\n",
      "ResearchStudy:id 588461 A Study to Evaluate the Pharmacokinetics, Safety, Tolerabili\n",
      "ResearchStudy:id 443581 A Study Of Negative Reinforcement on Foot-Tapping\n",
      "ResearchStudy:id 246543 test1\n",
      "ResearchStudy:id 248531 \n",
      "GET http://hapi.fhir.org/baseR4?_getpages=ee8d34fd-948c-4ca6-93d2-532ee1cb1214&_getpagesoffset=40&_count=20&_pretty=true&_bundletype=searchset\n",
      "ResearchStudy:id 248374 \n",
      "ResearchStudy:id 247777 \n",
      "ResearchStudy:id 247565 \n",
      "ResearchStudy:id 246779 \n",
      "ResearchStudy:id 246280 \n",
      "ResearchStudy:id 246125 \n",
      "ResearchStudy:id 245854 \n",
      "ResearchStudy:id 245605 \n",
      "ResearchStudy:id 245534 \n",
      "ResearchStudy:id 245463 \n",
      "ResearchStudy:id 245393 \n",
      "ResearchStudy:id 245342 \n",
      "ResearchStudy:id sirb-dl-ex-study-ph2 Longitudinal study of MMR vaccination in patients born from \n",
      "ResearchStudy:id 71530 Lollipop 1 Study\n",
      "ResearchStudy:id 48866 Das rechte Herz in der Schwangerschaft. Echokardiographische\n",
      "ResearchStudy:id 38364 Longitudinal study of MMR vaccination in patients born from \n",
      "ResearchStudy:id 1616 PAH Nice 1.1 later than 2016\n"
     ]
    }
   ],
   "source": [
    "json_response = get_bundle_as_raw_json(api_base, 'ResearchStudy')\n",
    "page_count = 1\n",
    "while json_response is not None:    \n",
    "    for entry in json_response['entry']:\n",
    "        resource = entry.get('resource', {})\n",
    "        print('ResearchStudy:id', resource.get('id', 'missing'), resource.get('title', '')[:60])\n",
    "    if page_count > 2: break # pull 3 pages at most to make testing fast\n",
    "    json_response = get_next_bundle_as_raw_json(json_response)\n",
    "    page_count += 1"
   ]
  },
  {
   "cell_type": "code",
   "execution_count": null,
   "metadata": {},
   "outputs": [],
   "source": [
    "#export\n",
    "def extract_references_from_resource(resource, field_name):\n",
    "    \"Return a list of references extracted from a single resource and field\"\n",
    "    result = []\n",
    "    if field_name in resource:\n",
    "        references = resource[field_name]\n",
    "        if not isinstance(references, list): references = [references]\n",
    "        for r in references:\n",
    "            if 'reference' in r: \n",
    "                # TODO: check that we have a relative reference or handle other kinds too\n",
    "                result.append(r['reference'])\n",
    "    return result"
   ]
  },
  {
   "cell_type": "code",
   "execution_count": null,
   "metadata": {},
   "outputs": [],
   "source": [
    "with open('test/patient_medication_bundle_0c4a1143-8d1c-42ed-b509-eac97d77c9b2.json') as f:\n",
    "    test_bundle = json.load(f)\n",
    "test_entry = test_bundle['entry'][3]\n",
    "test_resource = test_entry['resource'] # resource with medicationReference"
   ]
  },
  {
   "cell_type": "code",
   "execution_count": null,
   "metadata": {},
   "outputs": [],
   "source": [
    "assert (['Medication/bac1387e-3655-4e03-982f-7210faa21ea8'] \n",
    "        == extract_references_from_resource(test_resource, 'medicationReference'))"
   ]
  },
  {
   "cell_type": "code",
   "execution_count": null,
   "metadata": {},
   "outputs": [],
   "source": [
    "#export\n",
    "def extract_references(bundle, field_names):\n",
    "    \"Return a list of relative references e.g. `['Condition/1ddef4ad-fb76-46d6-9f1d-8ed58b173ee8']`\"\n",
    "    result = []\n",
    "    for entry in bundle['entry']:\n",
    "        resource = entry.get('resource', {})\n",
    "        for f in field_names:\n",
    "            result.extend(extract_references_from_resource(resource, f))\n",
    "    return list(set(result)) # de-duplicate but still return a list"
   ]
  },
  {
   "cell_type": "code",
   "execution_count": null,
   "metadata": {},
   "outputs": [],
   "source": [
    "assert (['Condition/1ddef4ad-fb76-46d6-9f1d-8ed58b173ee8', 'Medication/bac1387e-3655-4e03-982f-7210faa21ea8']\n",
    "        == extract_references(test_bundle, ['medicationReference', 'reasonReference']))\n",
    "# show that references are de-duplicated\n",
    "test_bundle = new_bundle()\n",
    "test_bundle['entry'].extend([test_entry, test_entry]) # create a bundle with duplicate medication references\n",
    "assert (['Medication/bac1387e-3655-4e03-982f-7210faa21ea8']\n",
    "        == extract_references(test_bundle, ['medicationReference', 'reasonReference']))"
   ]
  },
  {
   "cell_type": "code",
   "execution_count": null,
   "metadata": {},
   "outputs": [],
   "source": [
    "#export\n",
    "def get_by_reference(api_base, reference):\n",
    "    \"Return a resource read from a FHIR server by reference, as a list containg a single bundle entry\"\n",
    "    resource_type, id = reference.split('/')\n",
    "    single_resource_bundle = get_bundle_as_raw_json(api_base, resource_type, f'?_id={id}')\n",
    "    total = single_resource_bundle['total']\n",
    "    if total != 1:\n",
    "        raise Exception(f'Expected a single resource for {reference} but found {total}')\n",
    "        # TODO: we might want to print a warning and return an empyt list if this is too strict\n",
    "    return single_resource_bundle['entry']"
   ]
  },
  {
   "cell_type": "markdown",
   "metadata": {},
   "source": [
    "If a resource has a reference like\n",
    "```\n",
    "'medicationReference': {'reference': 'Medication/bac1387e-3655-4e03-982f-7210faa21ea8'},\n",
    "```\n",
    "we can HTTP GET the referenced resource (a `Medication` in this case) with http://hapi.fhir.org/baseR4/Medication?_id=bac1387e-3655-4e03-982f-7210faa21ea8"
   ]
  },
  {
   "cell_type": "code",
   "execution_count": null,
   "metadata": {},
   "outputs": [
    {
     "name": "stdout",
     "output_type": "stream",
     "text": [
      "GET http://hapi.fhir.org/baseR4/Medication?_id=bac1387e-3655-4e03-982f-7210faa21ea8\n"
     ]
    }
   ],
   "source": [
    "test_id = 'bac1387e-3655-4e03-982f-7210faa21ea8'\n",
    "assert get_by_reference(api_base, f'Medication/{test_id}')[0]['resource']['id'] == test_id"
   ]
  }
 ],
 "metadata": {
  "kernelspec": {
   "display_name": "Python 3",
   "language": "python",
   "name": "python3"
  }
 },
 "nbformat": 4,
 "nbformat_minor": 4
}
